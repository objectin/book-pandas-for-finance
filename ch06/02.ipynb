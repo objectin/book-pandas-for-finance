{
 "cells": [
  {
   "cell_type": "code",
   "execution_count": 2,
   "metadata": {},
   "outputs": [
    {
     "ename": "ImportError",
     "evalue": "Missing optional dependency 'openpyxl'.  Use pip or conda to install openpyxl.",
     "output_type": "error",
     "traceback": [
      "\u001b[1;31m---------------------------------------------------------------------------\u001b[0m",
      "\u001b[1;31mModuleNotFoundError\u001b[0m                       Traceback (most recent call last)",
      "File \u001b[1;32mc:\\Users\\sms20\\miniconda3\\lib\\site-packages\\pandas\\compat\\_optional.py:138\u001b[0m, in \u001b[0;36mimport_optional_dependency\u001b[1;34m(name, extra, errors, min_version)\u001b[0m\n\u001b[0;32m    137\u001b[0m \u001b[39mtry\u001b[39;00m:\n\u001b[1;32m--> 138\u001b[0m     module \u001b[39m=\u001b[39m importlib\u001b[39m.\u001b[39;49mimport_module(name)\n\u001b[0;32m    139\u001b[0m \u001b[39mexcept\u001b[39;00m \u001b[39mImportError\u001b[39;00m:\n",
      "File \u001b[1;32mc:\\Users\\sms20\\miniconda3\\lib\\importlib\\__init__.py:127\u001b[0m, in \u001b[0;36mimport_module\u001b[1;34m(name, package)\u001b[0m\n\u001b[0;32m    126\u001b[0m         level \u001b[39m+\u001b[39m\u001b[39m=\u001b[39m \u001b[39m1\u001b[39m\n\u001b[1;32m--> 127\u001b[0m \u001b[39mreturn\u001b[39;00m _bootstrap\u001b[39m.\u001b[39;49m_gcd_import(name[level:], package, level)\n",
      "File \u001b[1;32m<frozen importlib._bootstrap>:1030\u001b[0m, in \u001b[0;36m_gcd_import\u001b[1;34m(name, package, level)\u001b[0m\n",
      "File \u001b[1;32m<frozen importlib._bootstrap>:1007\u001b[0m, in \u001b[0;36m_find_and_load\u001b[1;34m(name, import_)\u001b[0m\n",
      "File \u001b[1;32m<frozen importlib._bootstrap>:984\u001b[0m, in \u001b[0;36m_find_and_load_unlocked\u001b[1;34m(name, import_)\u001b[0m\n",
      "\u001b[1;31mModuleNotFoundError\u001b[0m: No module named 'openpyxl'",
      "\nDuring handling of the above exception, another exception occurred:\n",
      "\u001b[1;31mImportError\u001b[0m                               Traceback (most recent call last)",
      "\u001b[1;32md:\\Timepercent\\book-pandas-for-finance\\ch06\\02.ipynb 셀 1\u001b[0m in \u001b[0;36m<cell line: 5>\u001b[1;34m()\u001b[0m\n\u001b[0;32m      <a href='vscode-notebook-cell:/d%3A/Timepercent/book-pandas-for-finance/ch06/02.ipynb#ch0000000?line=1'>2</a>\u001b[0m \u001b[39mimport\u001b[39;00m \u001b[39mpandas\u001b[39;00m \u001b[39mas\u001b[39;00m \u001b[39mpd\u001b[39;00m\n\u001b[0;32m      <a href='vscode-notebook-cell:/d%3A/Timepercent/book-pandas-for-finance/ch06/02.ipynb#ch0000000?line=3'>4</a>\u001b[0m \u001b[39m# 1\u001b[39;00m\n\u001b[1;32m----> <a href='vscode-notebook-cell:/d%3A/Timepercent/book-pandas-for-finance/ch06/02.ipynb#ch0000000?line=4'>5</a>\u001b[0m df \u001b[39m=\u001b[39m pd\u001b[39m.\u001b[39;49mread_excel(\u001b[39m'\u001b[39;49m\u001b[39mdata/data_5710_20220716.xlsx\u001b[39;49m\u001b[39m'\u001b[39;49m, index_col\u001b[39m=\u001b[39;49m\u001b[39m0\u001b[39;49m)\n\u001b[0;32m      <a href='vscode-notebook-cell:/d%3A/Timepercent/book-pandas-for-finance/ch06/02.ipynb#ch0000000?line=6'>7</a>\u001b[0m df\u001b[39m.\u001b[39mindex \u001b[39m=\u001b[39m pd\u001b[39m.\u001b[39mto_datetime(df\u001b[39m.\u001b[39mindex)\n\u001b[0;32m      <a href='vscode-notebook-cell:/d%3A/Timepercent/book-pandas-for-finance/ch06/02.ipynb#ch0000000?line=7'>8</a>\u001b[0m df \u001b[39m=\u001b[39m df\u001b[39m.\u001b[39msort_index()\n",
      "File \u001b[1;32mc:\\Users\\sms20\\miniconda3\\lib\\site-packages\\pandas\\util\\_decorators.py:311\u001b[0m, in \u001b[0;36mdeprecate_nonkeyword_arguments.<locals>.decorate.<locals>.wrapper\u001b[1;34m(*args, **kwargs)\u001b[0m\n\u001b[0;32m    305\u001b[0m \u001b[39mif\u001b[39;00m \u001b[39mlen\u001b[39m(args) \u001b[39m>\u001b[39m num_allow_args:\n\u001b[0;32m    306\u001b[0m     warnings\u001b[39m.\u001b[39mwarn(\n\u001b[0;32m    307\u001b[0m         msg\u001b[39m.\u001b[39mformat(arguments\u001b[39m=\u001b[39marguments),\n\u001b[0;32m    308\u001b[0m         \u001b[39mFutureWarning\u001b[39;00m,\n\u001b[0;32m    309\u001b[0m         stacklevel\u001b[39m=\u001b[39mstacklevel,\n\u001b[0;32m    310\u001b[0m     )\n\u001b[1;32m--> 311\u001b[0m \u001b[39mreturn\u001b[39;00m func(\u001b[39m*\u001b[39margs, \u001b[39m*\u001b[39m\u001b[39m*\u001b[39mkwargs)\n",
      "File \u001b[1;32mc:\\Users\\sms20\\miniconda3\\lib\\site-packages\\pandas\\io\\excel\\_base.py:457\u001b[0m, in \u001b[0;36mread_excel\u001b[1;34m(io, sheet_name, header, names, index_col, usecols, squeeze, dtype, engine, converters, true_values, false_values, skiprows, nrows, na_values, keep_default_na, na_filter, verbose, parse_dates, date_parser, thousands, decimal, comment, skipfooter, convert_float, mangle_dupe_cols, storage_options)\u001b[0m\n\u001b[0;32m    455\u001b[0m \u001b[39mif\u001b[39;00m \u001b[39mnot\u001b[39;00m \u001b[39misinstance\u001b[39m(io, ExcelFile):\n\u001b[0;32m    456\u001b[0m     should_close \u001b[39m=\u001b[39m \u001b[39mTrue\u001b[39;00m\n\u001b[1;32m--> 457\u001b[0m     io \u001b[39m=\u001b[39m ExcelFile(io, storage_options\u001b[39m=\u001b[39;49mstorage_options, engine\u001b[39m=\u001b[39;49mengine)\n\u001b[0;32m    458\u001b[0m \u001b[39melif\u001b[39;00m engine \u001b[39mand\u001b[39;00m engine \u001b[39m!=\u001b[39m io\u001b[39m.\u001b[39mengine:\n\u001b[0;32m    459\u001b[0m     \u001b[39mraise\u001b[39;00m \u001b[39mValueError\u001b[39;00m(\n\u001b[0;32m    460\u001b[0m         \u001b[39m\"\u001b[39m\u001b[39mEngine should not be specified when passing \u001b[39m\u001b[39m\"\u001b[39m\n\u001b[0;32m    461\u001b[0m         \u001b[39m\"\u001b[39m\u001b[39man ExcelFile - ExcelFile already has the engine set\u001b[39m\u001b[39m\"\u001b[39m\n\u001b[0;32m    462\u001b[0m     )\n",
      "File \u001b[1;32mc:\\Users\\sms20\\miniconda3\\lib\\site-packages\\pandas\\io\\excel\\_base.py:1419\u001b[0m, in \u001b[0;36mExcelFile.__init__\u001b[1;34m(self, path_or_buffer, engine, storage_options)\u001b[0m\n\u001b[0;32m   1416\u001b[0m \u001b[39mself\u001b[39m\u001b[39m.\u001b[39mengine \u001b[39m=\u001b[39m engine\n\u001b[0;32m   1417\u001b[0m \u001b[39mself\u001b[39m\u001b[39m.\u001b[39mstorage_options \u001b[39m=\u001b[39m storage_options\n\u001b[1;32m-> 1419\u001b[0m \u001b[39mself\u001b[39m\u001b[39m.\u001b[39m_reader \u001b[39m=\u001b[39m \u001b[39mself\u001b[39;49m\u001b[39m.\u001b[39;49m_engines[engine](\u001b[39mself\u001b[39;49m\u001b[39m.\u001b[39;49m_io, storage_options\u001b[39m=\u001b[39;49mstorage_options)\n",
      "File \u001b[1;32mc:\\Users\\sms20\\miniconda3\\lib\\site-packages\\pandas\\io\\excel\\_openpyxl.py:524\u001b[0m, in \u001b[0;36mOpenpyxlReader.__init__\u001b[1;34m(self, filepath_or_buffer, storage_options)\u001b[0m\n\u001b[0;32m    509\u001b[0m \u001b[39mdef\u001b[39;00m \u001b[39m__init__\u001b[39m(\n\u001b[0;32m    510\u001b[0m     \u001b[39mself\u001b[39m,\n\u001b[0;32m    511\u001b[0m     filepath_or_buffer: FilePath \u001b[39m|\u001b[39m ReadBuffer[\u001b[39mbytes\u001b[39m],\n\u001b[0;32m    512\u001b[0m     storage_options: StorageOptions \u001b[39m=\u001b[39m \u001b[39mNone\u001b[39;00m,\n\u001b[0;32m    513\u001b[0m ) \u001b[39m-\u001b[39m\u001b[39m>\u001b[39m \u001b[39mNone\u001b[39;00m:\n\u001b[0;32m    514\u001b[0m     \u001b[39m\"\"\"\u001b[39;00m\n\u001b[0;32m    515\u001b[0m \u001b[39m    Reader using openpyxl engine.\u001b[39;00m\n\u001b[0;32m    516\u001b[0m \n\u001b[1;32m   (...)\u001b[0m\n\u001b[0;32m    522\u001b[0m \u001b[39m        passed to fsspec for appropriate URLs (see ``_get_filepath_or_buffer``)\u001b[39;00m\n\u001b[0;32m    523\u001b[0m \u001b[39m    \"\"\"\u001b[39;00m\n\u001b[1;32m--> 524\u001b[0m     import_optional_dependency(\u001b[39m\"\u001b[39;49m\u001b[39mopenpyxl\u001b[39;49m\u001b[39m\"\u001b[39;49m)\n\u001b[0;32m    525\u001b[0m     \u001b[39msuper\u001b[39m()\u001b[39m.\u001b[39m\u001b[39m__init__\u001b[39m(filepath_or_buffer, storage_options\u001b[39m=\u001b[39mstorage_options)\n",
      "File \u001b[1;32mc:\\Users\\sms20\\miniconda3\\lib\\site-packages\\pandas\\compat\\_optional.py:141\u001b[0m, in \u001b[0;36mimport_optional_dependency\u001b[1;34m(name, extra, errors, min_version)\u001b[0m\n\u001b[0;32m    139\u001b[0m \u001b[39mexcept\u001b[39;00m \u001b[39mImportError\u001b[39;00m:\n\u001b[0;32m    140\u001b[0m     \u001b[39mif\u001b[39;00m errors \u001b[39m==\u001b[39m \u001b[39m\"\u001b[39m\u001b[39mraise\u001b[39m\u001b[39m\"\u001b[39m:\n\u001b[1;32m--> 141\u001b[0m         \u001b[39mraise\u001b[39;00m \u001b[39mImportError\u001b[39;00m(msg)\n\u001b[0;32m    142\u001b[0m     \u001b[39melse\u001b[39;00m:\n\u001b[0;32m    143\u001b[0m         \u001b[39mreturn\u001b[39;00m \u001b[39mNone\u001b[39;00m\n",
      "\u001b[1;31mImportError\u001b[0m: Missing optional dependency 'openpyxl'.  Use pip or conda to install openpyxl."
     ]
    }
   ],
   "source": [
    "import pprint\n",
    "import pandas as pd\n",
    "\n",
    "# 1\n",
    "df = pd.read_excel('data/data_5710_20220716.xlsx', index_col=0)\n",
    "\n",
    "df.index = pd.to_datetime(df.index)\n",
    "df = df.sort_index()\n",
    "#print(df, '\\n')\n",
    "\n",
    "\n",
    "# 2\n",
    "\n",
    "df = pd.read_excel('data/data_5710_20220716.xlsx', parse_dates=['일자'])\n",
    "df = df.sort_values('일자')\n",
    "#print(df, '\\n')\n",
    "\n",
    "\n",
    "#print(df['일자'].dtype)\n",
    "#print(type(df['일자'].iloc[0]))\n",
    "\n",
    "# Groupby 월봉 OHCL\n",
    "df = df[['일자', '시가', '저가', '고가', '종가', '거래량']].copy()\n",
    "df['year'] = df['일자'].dt.year\n",
    "df['month'] = df['일자'].dt.month\n",
    "#print(df.head())\n",
    "#print(df['year'])\n",
    "#print(df['month'])\n",
    "\n",
    "gb = df.groupby(['year', 'month'])\n",
    "#print(\"==>> gb.get_group((2021, 9)).head(): \\n\", gb.get_group((2021, 9)).head())\n",
    "\n",
    "how = {\n",
    "    '시가': 'first',\n",
    "    '고가': max,\n",
    "    '저가': min,\n",
    "    '종가': 'last',\n",
    "    '거래량': sum\n",
    "}\n",
    "\n",
    "print(\"==>> gb.agg(how): \\n\", gb.agg(how))"
   ]
  },
  {
   "cell_type": "code",
   "execution_count": null,
   "metadata": {},
   "outputs": [
    {
     "data": {
      "text/html": [
       "<div>\n",
       "<style scoped>\n",
       "    .dataframe tbody tr th:only-of-type {\n",
       "        vertical-align: middle;\n",
       "    }\n",
       "\n",
       "    .dataframe tbody tr th {\n",
       "        vertical-align: top;\n",
       "    }\n",
       "\n",
       "    .dataframe thead th {\n",
       "        text-align: right;\n",
       "    }\n",
       "</style>\n",
       "<table border=\"1\" class=\"dataframe\">\n",
       "  <thead>\n",
       "    <tr style=\"text-align: right;\">\n",
       "      <th></th>\n",
       "      <th>시가</th>\n",
       "      <th>고가</th>\n",
       "      <th>저가</th>\n",
       "      <th>종가</th>\n",
       "      <th>거래량</th>\n",
       "    </tr>\n",
       "    <tr>\n",
       "      <th>일자</th>\n",
       "      <th></th>\n",
       "      <th></th>\n",
       "      <th></th>\n",
       "      <th></th>\n",
       "      <th></th>\n",
       "    </tr>\n",
       "  </thead>\n",
       "  <tbody>\n",
       "    <tr>\n",
       "      <th>2021-07-31</th>\n",
       "      <td>162000.0</td>\n",
       "      <td>162000.0</td>\n",
       "      <td>142500.0</td>\n",
       "      <td>147000.0</td>\n",
       "      <td>52762602.0</td>\n",
       "    </tr>\n",
       "    <tr>\n",
       "      <th>2021-08-31</th>\n",
       "      <td>147000.0</td>\n",
       "      <td>155000.0</td>\n",
       "      <td>141000.0</td>\n",
       "      <td>155000.0</td>\n",
       "      <td>54240960.0</td>\n",
       "    </tr>\n",
       "    <tr>\n",
       "      <th>2021-09-30</th>\n",
       "      <td>155000.0</td>\n",
       "      <td>157500.0</td>\n",
       "      <td>114000.0</td>\n",
       "      <td>118000.0</td>\n",
       "      <td>122697819.0</td>\n",
       "    </tr>\n",
       "    <tr>\n",
       "      <th>2021-10-31</th>\n",
       "      <td>118000.0</td>\n",
       "      <td>130500.0</td>\n",
       "      <td>110500.0</td>\n",
       "      <td>125500.0</td>\n",
       "      <td>57516310.0</td>\n",
       "    </tr>\n",
       "    <tr>\n",
       "      <th>2021-11-30</th>\n",
       "      <td>126000.0</td>\n",
       "      <td>131000.0</td>\n",
       "      <td>121500.0</td>\n",
       "      <td>122000.0</td>\n",
       "      <td>50391276.0</td>\n",
       "    </tr>\n",
       "    <tr>\n",
       "      <th>2021-12-31</th>\n",
       "      <td>121500.0</td>\n",
       "      <td>124000.0</td>\n",
       "      <td>112500.0</td>\n",
       "      <td>112500.0</td>\n",
       "      <td>34418041.0</td>\n",
       "    </tr>\n",
       "    <tr>\n",
       "      <th>2022-01-31</th>\n",
       "      <td>113500.0</td>\n",
       "      <td>117000.0</td>\n",
       "      <td>82200.0</td>\n",
       "      <td>85000.0</td>\n",
       "      <td>67362020.0</td>\n",
       "    </tr>\n",
       "    <tr>\n",
       "      <th>2022-02-28</th>\n",
       "      <td>87100.0</td>\n",
       "      <td>95000.0</td>\n",
       "      <td>84500.0</td>\n",
       "      <td>94100.0</td>\n",
       "      <td>49646154.0</td>\n",
       "    </tr>\n",
       "    <tr>\n",
       "      <th>2022-03-31</th>\n",
       "      <td>94400.0</td>\n",
       "      <td>110000.0</td>\n",
       "      <td>89600.0</td>\n",
       "      <td>106500.0</td>\n",
       "      <td>48471677.0</td>\n",
       "    </tr>\n",
       "    <tr>\n",
       "      <th>2022-04-30</th>\n",
       "      <td>105500.0</td>\n",
       "      <td>108000.0</td>\n",
       "      <td>87600.0</td>\n",
       "      <td>89900.0</td>\n",
       "      <td>31610295.0</td>\n",
       "    </tr>\n",
       "    <tr>\n",
       "      <th>2022-05-31</th>\n",
       "      <td>88400.0</td>\n",
       "      <td>91900.0</td>\n",
       "      <td>80000.0</td>\n",
       "      <td>85000.0</td>\n",
       "      <td>35611165.0</td>\n",
       "    </tr>\n",
       "    <tr>\n",
       "      <th>2022-06-30</th>\n",
       "      <td>84000.0</td>\n",
       "      <td>87400.0</td>\n",
       "      <td>66700.0</td>\n",
       "      <td>69900.0</td>\n",
       "      <td>38118975.0</td>\n",
       "    </tr>\n",
       "    <tr>\n",
       "      <th>2022-07-31</th>\n",
       "      <td>70000.0</td>\n",
       "      <td>75000.0</td>\n",
       "      <td>66200.0</td>\n",
       "      <td>70100.0</td>\n",
       "      <td>17129656.0</td>\n",
       "    </tr>\n",
       "  </tbody>\n",
       "</table>\n",
       "</div>"
      ],
      "text/plain": [
       "                  시가        고가        저가        종가          거래량\n",
       "일자                                                             \n",
       "2021-07-31  162000.0  162000.0  142500.0  147000.0   52762602.0\n",
       "2021-08-31  147000.0  155000.0  141000.0  155000.0   54240960.0\n",
       "2021-09-30  155000.0  157500.0  114000.0  118000.0  122697819.0\n",
       "2021-10-31  118000.0  130500.0  110500.0  125500.0   57516310.0\n",
       "2021-11-30  126000.0  131000.0  121500.0  122000.0   50391276.0\n",
       "2021-12-31  121500.0  124000.0  112500.0  112500.0   34418041.0\n",
       "2022-01-31  113500.0  117000.0   82200.0   85000.0   67362020.0\n",
       "2022-02-28   87100.0   95000.0   84500.0   94100.0   49646154.0\n",
       "2022-03-31   94400.0  110000.0   89600.0  106500.0   48471677.0\n",
       "2022-04-30  105500.0  108000.0   87600.0   89900.0   31610295.0\n",
       "2022-05-31   88400.0   91900.0   80000.0   85000.0   35611165.0\n",
       "2022-06-30   84000.0   87400.0   66700.0   69900.0   38118975.0\n",
       "2022-07-31   70000.0   75000.0   66200.0   70100.0   17129656.0"
      ]
     },
     "execution_count": 41,
     "metadata": {},
     "output_type": "execute_result"
    }
   ],
   "source": [
    "df.groupby(pd.Grouper(key='일자', freq='m')).agg(how)\n"
   ]
  },
  {
   "cell_type": "markdown",
   "metadata": {},
   "source": [
    "### 월봉 OHCLV"
   ]
  },
  {
   "cell_type": "code",
   "execution_count": null,
   "metadata": {},
   "outputs": [
    {
     "name": "stderr",
     "output_type": "stream",
     "text": [
      "c:\\Users\\sms20\\anaconda3\\lib\\site-packages\\openpyxl\\styles\\stylesheet.py:226: UserWarning: Workbook contains no default style, apply openpyxl's default\n",
      "  warn(\"Workbook contains no default style, apply openpyxl's default\")\n"
     ]
    },
    {
     "data": {
      "text/plain": [
       "일자\n",
       "2021-07-15          NaN\n",
       "2021-07-16    3821843.0\n",
       "2021-07-19    3423188.0\n",
       "2021-07-20    3475792.0\n",
       "2021-07-21    6652856.0\n",
       "                ...    \n",
       "2022-07-11    1418763.0\n",
       "2022-07-12     979002.0\n",
       "2022-07-13    1082539.0\n",
       "2022-07-14    1156844.0\n",
       "2022-07-15    1597400.0\n",
       "Name: 거래량, Length: 247, dtype: float64"
      ]
     },
     "execution_count": 42,
     "metadata": {},
     "output_type": "execute_result"
    }
   ],
   "source": [
    "import pandas as pd\n",
    "df = pd.read_excel('data/data_5710_20220716.xlsx', index_col=0)\n",
    "df.index = pd.to_datetime(df.index)\n",
    "df = df.sort_index()\n",
    "\n",
    "df['거래량'].shift(1)"
   ]
  },
  {
   "cell_type": "code",
   "execution_count": null,
   "metadata": {},
   "outputs": [
    {
     "data": {
      "text/html": [
       "<div>\n",
       "<style scoped>\n",
       "    .dataframe tbody tr th:only-of-type {\n",
       "        vertical-align: middle;\n",
       "    }\n",
       "\n",
       "    .dataframe tbody tr th {\n",
       "        vertical-align: top;\n",
       "    }\n",
       "\n",
       "    .dataframe thead th {\n",
       "        text-align: right;\n",
       "    }\n",
       "</style>\n",
       "<table border=\"1\" class=\"dataframe\">\n",
       "  <thead>\n",
       "    <tr style=\"text-align: right;\">\n",
       "      <th></th>\n",
       "      <th>거래량</th>\n",
       "      <th>전일거래량</th>\n",
       "    </tr>\n",
       "    <tr>\n",
       "      <th>일자</th>\n",
       "      <th></th>\n",
       "      <th></th>\n",
       "    </tr>\n",
       "  </thead>\n",
       "  <tbody>\n",
       "    <tr>\n",
       "      <th>2021-07-15</th>\n",
       "      <td>3821843.0</td>\n",
       "      <td>NaN</td>\n",
       "    </tr>\n",
       "    <tr>\n",
       "      <th>2021-07-16</th>\n",
       "      <td>3423188.0</td>\n",
       "      <td>3821843.0</td>\n",
       "    </tr>\n",
       "    <tr>\n",
       "      <th>2021-07-19</th>\n",
       "      <td>3475792.0</td>\n",
       "      <td>3423188.0</td>\n",
       "    </tr>\n",
       "    <tr>\n",
       "      <th>2021-07-20</th>\n",
       "      <td>6652856.0</td>\n",
       "      <td>3475792.0</td>\n",
       "    </tr>\n",
       "    <tr>\n",
       "      <th>2021-07-21</th>\n",
       "      <td>10409836.0</td>\n",
       "      <td>6652856.0</td>\n",
       "    </tr>\n",
       "    <tr>\n",
       "      <th>...</th>\n",
       "      <td>...</td>\n",
       "      <td>...</td>\n",
       "    </tr>\n",
       "    <tr>\n",
       "      <th>2022-07-11</th>\n",
       "      <td>979002.0</td>\n",
       "      <td>1418763.0</td>\n",
       "    </tr>\n",
       "    <tr>\n",
       "      <th>2022-07-12</th>\n",
       "      <td>1082539.0</td>\n",
       "      <td>979002.0</td>\n",
       "    </tr>\n",
       "    <tr>\n",
       "      <th>2022-07-13</th>\n",
       "      <td>1156844.0</td>\n",
       "      <td>1082539.0</td>\n",
       "    </tr>\n",
       "    <tr>\n",
       "      <th>2022-07-14</th>\n",
       "      <td>1597400.0</td>\n",
       "      <td>1156844.0</td>\n",
       "    </tr>\n",
       "    <tr>\n",
       "      <th>2022-07-15</th>\n",
       "      <td>1605289.0</td>\n",
       "      <td>1597400.0</td>\n",
       "    </tr>\n",
       "  </tbody>\n",
       "</table>\n",
       "<p>247 rows × 2 columns</p>\n",
       "</div>"
      ],
      "text/plain": [
       "                   거래량      전일거래량\n",
       "일자                               \n",
       "2021-07-15   3821843.0        NaN\n",
       "2021-07-16   3423188.0  3821843.0\n",
       "2021-07-19   3475792.0  3423188.0\n",
       "2021-07-20   6652856.0  3475792.0\n",
       "2021-07-21  10409836.0  6652856.0\n",
       "...                ...        ...\n",
       "2022-07-11    979002.0  1418763.0\n",
       "2022-07-12   1082539.0   979002.0\n",
       "2022-07-13   1156844.0  1082539.0\n",
       "2022-07-14   1597400.0  1156844.0\n",
       "2022-07-15   1605289.0  1597400.0\n",
       "\n",
       "[247 rows x 2 columns]"
      ]
     },
     "execution_count": 43,
     "metadata": {},
     "output_type": "execute_result"
    }
   ],
   "source": [
    "df['전일거래량'] = df['거래량'].shift(1)\n",
    "df[['거래량', '전일거래량']]"
   ]
  },
  {
   "cell_type": "code",
   "execution_count": null,
   "metadata": {},
   "outputs": [
    {
     "data": {
      "text/plain": [
       "일자\n",
       "2021-07-15    False\n",
       "2021-07-16    False\n",
       "2021-07-19     True\n",
       "2021-07-20     True\n",
       "2021-07-21     True\n",
       "              ...  \n",
       "2022-07-11    False\n",
       "2022-07-12     True\n",
       "2022-07-13     True\n",
       "2022-07-14     True\n",
       "2022-07-15     True\n",
       "Length: 247, dtype: bool"
      ]
     },
     "execution_count": 44,
     "metadata": {},
     "output_type": "execute_result"
    }
   ],
   "source": [
    "cond = df['거래량'] > df['전일거래량']\n",
    "cond"
   ]
  },
  {
   "cell_type": "code",
   "execution_count": null,
   "metadata": {},
   "outputs": [
    {
     "name": "stdout",
     "output_type": "stream",
     "text": [
      "상승일: 115\n",
      "영업일: 247\n"
     ]
    }
   ],
   "source": [
    "print('상승일:', len(df[cond]))\n",
    "print('영업일:', len(df))"
   ]
  },
  {
   "cell_type": "code",
   "execution_count": null,
   "metadata": {},
   "outputs": [
    {
     "data": {
      "text/plain": [
       "일자\n",
       "2021-07-15          NaN\n",
       "2021-07-16    -398655.0\n",
       "2021-07-19      52604.0\n",
       "2021-07-20    3177064.0\n",
       "2021-07-21    3756980.0\n",
       "                ...    \n",
       "2022-07-11    -439761.0\n",
       "2022-07-12     103537.0\n",
       "2022-07-13      74305.0\n",
       "2022-07-14     440556.0\n",
       "2022-07-15       7889.0\n",
       "Name: 거래량, Length: 247, dtype: float64"
      ]
     },
     "execution_count": 46,
     "metadata": {},
     "output_type": "execute_result"
    }
   ],
   "source": [
    "df['거래량'].diff()"
   ]
  },
  {
   "cell_type": "code",
   "execution_count": null,
   "metadata": {},
   "outputs": [
    {
     "data": {
      "text/plain": [
       "115"
      ]
     },
     "execution_count": 47,
     "metadata": {},
     "output_type": "execute_result"
    }
   ],
   "source": [
    "cond = df['거래량'].diff() > 0\n",
    "거래량증가 = df['거래량'].diff() > 0\n",
    "len(df[cond])"
   ]
  },
  {
   "cell_type": "code",
   "execution_count": null,
   "metadata": {},
   "outputs": [
    {
     "data": {
      "text/plain": [
       "26"
      ]
     },
     "execution_count": 48,
     "metadata": {},
     "output_type": "execute_result"
    }
   ],
   "source": [
    "abs_momentum = df['종가'] / df['종가'].shift(6)\n",
    "cond = (abs_momentum >= 1.02) & 거래량증가\n",
    "len(df[cond])"
   ]
  },
  {
   "cell_type": "code",
   "execution_count": null,
   "metadata": {},
   "outputs": [
    {
     "data": {
      "text/plain": [
       "일자\n",
       "2021-07-15      NaN\n",
       "2021-07-16    False\n",
       "2021-07-19    False\n",
       "2021-07-20    False\n",
       "2021-07-21    False\n",
       "              ...  \n",
       "2022-07-11    False\n",
       "2022-07-12    False\n",
       "2022-07-13     True\n",
       "2022-07-14    False\n",
       "2022-07-15    False\n",
       "Length: 247, dtype: object"
      ]
     },
     "execution_count": 49,
     "metadata": {},
     "output_type": "execute_result"
    }
   ],
   "source": [
    "cond.shift(1)"
   ]
  },
  {
   "cell_type": "code",
   "execution_count": null,
   "metadata": {},
   "outputs": [
    {
     "name": "stdout",
     "output_type": "stream",
     "text": [
      "0.975227025173814\n"
     ]
    }
   ],
   "source": [
    "cond_modified = cond.shift(1).fillna(False)\n",
    "s = df.loc[cond_modified, '종가'] / df.loc[cond_modified, '시가']\n",
    "print(s.cumprod().iloc[-1])"
   ]
  },
  {
   "cell_type": "markdown",
   "metadata": {},
   "source": [
    "### 04) 이동평균"
   ]
  },
  {
   "cell_type": "code",
   "execution_count": null,
   "metadata": {},
   "outputs": [
    {
     "name": "stderr",
     "output_type": "stream",
     "text": [
      "c:\\Users\\sms20\\anaconda3\\lib\\site-packages\\openpyxl\\styles\\stylesheet.py:226: UserWarning: Workbook contains no default style, apply openpyxl's default\n",
      "  warn(\"Workbook contains no default style, apply openpyxl's default\")\n"
     ]
    },
    {
     "data": {
      "text/html": [
       "<div>\n",
       "<style scoped>\n",
       "    .dataframe tbody tr th:only-of-type {\n",
       "        vertical-align: middle;\n",
       "    }\n",
       "\n",
       "    .dataframe tbody tr th {\n",
       "        vertical-align: top;\n",
       "    }\n",
       "\n",
       "    .dataframe thead th {\n",
       "        text-align: right;\n",
       "    }\n",
       "</style>\n",
       "<table border=\"1\" class=\"dataframe\">\n",
       "  <thead>\n",
       "    <tr style=\"text-align: right;\">\n",
       "      <th></th>\n",
       "      <th>종가</th>\n",
       "      <th>종가D-1</th>\n",
       "      <th>종가D-2</th>\n",
       "      <th>ma_3</th>\n",
       "    </tr>\n",
       "    <tr>\n",
       "      <th>일자</th>\n",
       "      <th></th>\n",
       "      <th></th>\n",
       "      <th></th>\n",
       "      <th></th>\n",
       "    </tr>\n",
       "  </thead>\n",
       "  <tbody>\n",
       "    <tr>\n",
       "      <th>2021-02-15</th>\n",
       "      <td>84200.0</td>\n",
       "      <td>NaN</td>\n",
       "      <td>NaN</td>\n",
       "      <td>NaN</td>\n",
       "    </tr>\n",
       "    <tr>\n",
       "      <th>2021-02-16</th>\n",
       "      <td>84900.0</td>\n",
       "      <td>84200.0</td>\n",
       "      <td>NaN</td>\n",
       "      <td>NaN</td>\n",
       "    </tr>\n",
       "    <tr>\n",
       "      <th>2021-02-17</th>\n",
       "      <td>83200.0</td>\n",
       "      <td>84900.0</td>\n",
       "      <td>84200.0</td>\n",
       "      <td>84100.000000</td>\n",
       "    </tr>\n",
       "    <tr>\n",
       "      <th>2021-02-18</th>\n",
       "      <td>82100.0</td>\n",
       "      <td>83200.0</td>\n",
       "      <td>84900.0</td>\n",
       "      <td>83400.000000</td>\n",
       "    </tr>\n",
       "    <tr>\n",
       "      <th>2021-02-19</th>\n",
       "      <td>82600.0</td>\n",
       "      <td>82100.0</td>\n",
       "      <td>83200.0</td>\n",
       "      <td>82633.333333</td>\n",
       "    </tr>\n",
       "  </tbody>\n",
       "</table>\n",
       "</div>"
      ],
      "text/plain": [
       "                 종가    종가D-1    종가D-2          ma_3\n",
       "일자                                                 \n",
       "2021-02-15  84200.0      NaN      NaN           NaN\n",
       "2021-02-16  84900.0  84200.0      NaN           NaN\n",
       "2021-02-17  83200.0  84900.0  84200.0  84100.000000\n",
       "2021-02-18  82100.0  83200.0  84900.0  83400.000000\n",
       "2021-02-19  82600.0  82100.0  83200.0  82633.333333"
      ]
     },
     "execution_count": 52,
     "metadata": {},
     "output_type": "execute_result"
    }
   ],
   "source": [
    "import pandas as pd\n",
    "\n",
    "df = pd.read_excel('data/ss_ex_1.xlsx', index_col=0)\n",
    "df.index = pd.to_datetime(df.index)\n",
    "df = df.sort_index()[['종가']]\n",
    "\n",
    "df['종가D-1'] = df['종가'].shift(1)\n",
    "df['종가D-2'] = df['종가'].shift(2)\n",
    "df['ma_3'] = (df['종가'] + df['종가D-1'] + df['종가D-2'])/3\n",
    "df.head()"
   ]
  },
  {
   "cell_type": "code",
   "execution_count": null,
   "metadata": {},
   "outputs": [
    {
     "data": {
      "text/html": [
       "<div>\n",
       "<style scoped>\n",
       "    .dataframe tbody tr th:only-of-type {\n",
       "        vertical-align: middle;\n",
       "    }\n",
       "\n",
       "    .dataframe tbody tr th {\n",
       "        vertical-align: top;\n",
       "    }\n",
       "\n",
       "    .dataframe thead th {\n",
       "        text-align: right;\n",
       "    }\n",
       "</style>\n",
       "<table border=\"1\" class=\"dataframe\">\n",
       "  <thead>\n",
       "    <tr style=\"text-align: right;\">\n",
       "      <th></th>\n",
       "      <th>종가</th>\n",
       "      <th>종가D-1</th>\n",
       "      <th>종가D-2</th>\n",
       "      <th>ma_3</th>\n",
       "      <th>ma_3_rolling</th>\n",
       "    </tr>\n",
       "    <tr>\n",
       "      <th>일자</th>\n",
       "      <th></th>\n",
       "      <th></th>\n",
       "      <th></th>\n",
       "      <th></th>\n",
       "      <th></th>\n",
       "    </tr>\n",
       "  </thead>\n",
       "  <tbody>\n",
       "    <tr>\n",
       "      <th>2021-02-15</th>\n",
       "      <td>84200.0</td>\n",
       "      <td>NaN</td>\n",
       "      <td>NaN</td>\n",
       "      <td>NaN</td>\n",
       "      <td>NaN</td>\n",
       "    </tr>\n",
       "    <tr>\n",
       "      <th>2021-02-16</th>\n",
       "      <td>84900.0</td>\n",
       "      <td>84200.0</td>\n",
       "      <td>NaN</td>\n",
       "      <td>NaN</td>\n",
       "      <td>NaN</td>\n",
       "    </tr>\n",
       "    <tr>\n",
       "      <th>2021-02-17</th>\n",
       "      <td>83200.0</td>\n",
       "      <td>84900.0</td>\n",
       "      <td>84200.0</td>\n",
       "      <td>84100.000000</td>\n",
       "      <td>84100.000000</td>\n",
       "    </tr>\n",
       "    <tr>\n",
       "      <th>2021-02-18</th>\n",
       "      <td>82100.0</td>\n",
       "      <td>83200.0</td>\n",
       "      <td>84900.0</td>\n",
       "      <td>83400.000000</td>\n",
       "      <td>83400.000000</td>\n",
       "    </tr>\n",
       "    <tr>\n",
       "      <th>2021-02-19</th>\n",
       "      <td>82600.0</td>\n",
       "      <td>82100.0</td>\n",
       "      <td>83200.0</td>\n",
       "      <td>82633.333333</td>\n",
       "      <td>82633.333333</td>\n",
       "    </tr>\n",
       "    <tr>\n",
       "      <th>...</th>\n",
       "      <td>...</td>\n",
       "      <td>...</td>\n",
       "      <td>...</td>\n",
       "      <td>...</td>\n",
       "      <td>...</td>\n",
       "    </tr>\n",
       "    <tr>\n",
       "      <th>2021-08-09</th>\n",
       "      <td>81500.0</td>\n",
       "      <td>81500.0</td>\n",
       "      <td>82100.0</td>\n",
       "      <td>81700.000000</td>\n",
       "      <td>81700.000000</td>\n",
       "    </tr>\n",
       "    <tr>\n",
       "      <th>2021-08-10</th>\n",
       "      <td>80200.0</td>\n",
       "      <td>81500.0</td>\n",
       "      <td>81500.0</td>\n",
       "      <td>81066.666667</td>\n",
       "      <td>81066.666667</td>\n",
       "    </tr>\n",
       "    <tr>\n",
       "      <th>2021-08-11</th>\n",
       "      <td>78500.0</td>\n",
       "      <td>80200.0</td>\n",
       "      <td>81500.0</td>\n",
       "      <td>80066.666667</td>\n",
       "      <td>80066.666667</td>\n",
       "    </tr>\n",
       "    <tr>\n",
       "      <th>2021-08-12</th>\n",
       "      <td>77000.0</td>\n",
       "      <td>78500.0</td>\n",
       "      <td>80200.0</td>\n",
       "      <td>78566.666667</td>\n",
       "      <td>78566.666667</td>\n",
       "    </tr>\n",
       "    <tr>\n",
       "      <th>2021-08-13</th>\n",
       "      <td>74400.0</td>\n",
       "      <td>77000.0</td>\n",
       "      <td>78500.0</td>\n",
       "      <td>76633.333333</td>\n",
       "      <td>76633.333333</td>\n",
       "    </tr>\n",
       "  </tbody>\n",
       "</table>\n",
       "<p>127 rows × 5 columns</p>\n",
       "</div>"
      ],
      "text/plain": [
       "                 종가    종가D-1    종가D-2          ma_3  ma_3_rolling\n",
       "일자                                                               \n",
       "2021-02-15  84200.0      NaN      NaN           NaN           NaN\n",
       "2021-02-16  84900.0  84200.0      NaN           NaN           NaN\n",
       "2021-02-17  83200.0  84900.0  84200.0  84100.000000  84100.000000\n",
       "2021-02-18  82100.0  83200.0  84900.0  83400.000000  83400.000000\n",
       "2021-02-19  82600.0  82100.0  83200.0  82633.333333  82633.333333\n",
       "...             ...      ...      ...           ...           ...\n",
       "2021-08-09  81500.0  81500.0  82100.0  81700.000000  81700.000000\n",
       "2021-08-10  80200.0  81500.0  81500.0  81066.666667  81066.666667\n",
       "2021-08-11  78500.0  80200.0  81500.0  80066.666667  80066.666667\n",
       "2021-08-12  77000.0  78500.0  80200.0  78566.666667  78566.666667\n",
       "2021-08-13  74400.0  77000.0  78500.0  76633.333333  76633.333333\n",
       "\n",
       "[127 rows x 5 columns]"
      ]
     },
     "execution_count": 54,
     "metadata": {},
     "output_type": "execute_result"
    }
   ],
   "source": [
    "# 일반화\n",
    "df['ma_3_rolling'] = df['종가'].rolling(3).mean()\n",
    "df"
   ]
  },
  {
   "cell_type": "code",
   "execution_count": 1,
   "metadata": {},
   "outputs": [
    {
     "name": "stdout",
     "output_type": "stream",
     "text": [
      "상승일: 76\n",
      "영업일: 127\n",
      "\n",
      "               종가    대비   등락률     시가     고가     저가       거래량           거래대금  \\\n",
      "일자                                                                            \n",
      "2021-08-06  81500  -600 -0.73  81900  82500  81300  13342623  1090225883400   \n",
      "2021-08-05  82100  -800 -0.97  83300  83300  82000  18485469  1526103630900   \n",
      "2021-08-04  82900  1500  1.84  82200  83100  81800  25642368  2117643006850   \n",
      "2021-07-26  78800  -500 -0.63  79400  79500  78800  10040975   792954940200   \n",
      "2021-07-23  79300  -400 -0.50  79700  79900  79200   9098910   723397885611   \n",
      "...           ...   ...   ...    ...    ...    ...       ...            ...   \n",
      "2021-02-22  82200  -400 -0.48  83800  84200  82200  25419886  2113624966100   \n",
      "2021-02-18  82100 -1100 -1.32  83200  83600  82100  21327683  1762033944231   \n",
      "2021-02-17  83200 -1700 -2.00  83900  84200  83000  18307735  1526409421172   \n",
      "2021-02-16  84900   700  0.83  84500  86000  84200  20483100  1740792201903   \n",
      "2021-02-15  84200  2600  3.19  83800  84500  83300  23529706  1978336504100   \n",
      "\n",
      "                       시가총액       상장주식수      ma5  \n",
      "일자                                                \n",
      "2021-08-06  486537277825000  5969782550  78320.0  \n",
      "2021-08-05  490119147355000  5969782550  79740.0  \n",
      "2021-08-04  494894973395000  5969782550  80760.0  \n",
      "2021-07-26  470418864940000  5969782550  78900.0  \n",
      "2021-07-23  473403756215000  5969782550  78800.0  \n",
      "...                     ...         ...      ...  \n",
      "2021-02-22  490716125610000  5969782550  83080.0  \n",
      "2021-02-18  490119147355000  5969782550  82820.0  \n",
      "2021-02-17  496685908160000  5969782550  82180.0  \n",
      "2021-02-16  506834538495000  5969782550  82420.0  \n",
      "2021-02-15  502655690710000  5969782550  83000.0  \n",
      "\n",
      "[76 rows x 11 columns]\n"
     ]
    },
    {
     "name": "stderr",
     "output_type": "stream",
     "text": [
      "c:\\Users\\sms20\\miniconda3\\lib\\site-packages\\openpyxl\\styles\\stylesheet.py:226: UserWarning: Workbook contains no default style, apply openpyxl's default\n",
      "  warn(\"Workbook contains no default style, apply openpyxl's default\")\n"
     ]
    }
   ],
   "source": [
    "import pandas as pd\n",
    "df = pd.read_excel('data/ss_ex_1.xlsx', index_col=0)\n",
    "df.index = pd.to_datetime(df.index)\n",
    "\n",
    "df['ma5'] = df['종가'].shift(1).rolling(5).mean()\n",
    "cond = df['ma5'] < df['시가']\n",
    "print(f'상승일: {len(df[cond])}')\n",
    "print('영업일:', len(df))\n",
    "print()\n",
    "print(df[cond])"
   ]
  },
  {
   "cell_type": "code",
   "execution_count": null,
   "metadata": {},
   "outputs": [],
   "source": []
  }
 ],
 "metadata": {
  "kernelspec": {
   "display_name": "Python 3.9.12 ('base')",
   "language": "python",
   "name": "python3"
  },
  "language_info": {
   "codemirror_mode": {
    "name": "ipython",
    "version": 3
   },
   "file_extension": ".py",
   "mimetype": "text/x-python",
   "name": "python",
   "nbconvert_exporter": "python",
   "pygments_lexer": "ipython3",
   "version": "3.9.12"
  },
  "orig_nbformat": 4,
  "vscode": {
   "interpreter": {
    "hash": "b7eb502b8bbbe7a9a0e525e1a7d0d7614316929686f914beb4e586429dc455c9"
   }
  }
 },
 "nbformat": 4,
 "nbformat_minor": 2
}

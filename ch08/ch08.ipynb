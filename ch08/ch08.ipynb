{
 "cells": [
  {
   "cell_type": "markdown",
   "metadata": {},
   "source": [
    "## 8.1 주가지수"
   ]
  },
  {
   "cell_type": "code",
   "execution_count": 1,
   "metadata": {},
   "outputs": [],
   "source": [
    "import pandas as pd"
   ]
  },
  {
   "cell_type": "code",
   "execution_count": 194,
   "metadata": {},
   "outputs": [],
   "source": [
    "df_13 = pd.read_excel('data/20210913.xlsx', index_col=0)\n",
    "df_14 = pd.read_excel('data/20210914.xlsx', index_col=0)"
   ]
  },
  {
   "cell_type": "code",
   "execution_count": 195,
   "metadata": {},
   "outputs": [
    {
     "data": {
      "text/html": [
       "<div>\n",
       "<style scoped>\n",
       "    .dataframe tbody tr th:only-of-type {\n",
       "        vertical-align: middle;\n",
       "    }\n",
       "\n",
       "    .dataframe tbody tr th {\n",
       "        vertical-align: top;\n",
       "    }\n",
       "\n",
       "    .dataframe thead th {\n",
       "        text-align: right;\n",
       "    }\n",
       "</style>\n",
       "<table border=\"1\" class=\"dataframe\">\n",
       "  <thead>\n",
       "    <tr style=\"text-align: right;\">\n",
       "      <th></th>\n",
       "      <th>종목명</th>\n",
       "      <th>종가</th>\n",
       "      <th>대비</th>\n",
       "      <th>등락률</th>\n",
       "      <th>시가</th>\n",
       "      <th>고가</th>\n",
       "      <th>저가</th>\n",
       "      <th>거래량</th>\n",
       "      <th>거래대금</th>\n",
       "      <th>시가총액</th>\n",
       "      <th>상장주식수</th>\n",
       "    </tr>\n",
       "    <tr>\n",
       "      <th>종목코드</th>\n",
       "      <th></th>\n",
       "      <th></th>\n",
       "      <th></th>\n",
       "      <th></th>\n",
       "      <th></th>\n",
       "      <th></th>\n",
       "      <th></th>\n",
       "      <th></th>\n",
       "      <th></th>\n",
       "      <th></th>\n",
       "      <th></th>\n",
       "    </tr>\n",
       "  </thead>\n",
       "  <tbody>\n",
       "    <tr>\n",
       "      <th>095570</th>\n",
       "      <td>AJ네트웍스</td>\n",
       "      <td>5830</td>\n",
       "      <td>-130</td>\n",
       "      <td>-2.18</td>\n",
       "      <td>5980</td>\n",
       "      <td>5980</td>\n",
       "      <td>5800</td>\n",
       "      <td>133188</td>\n",
       "      <td>780734220</td>\n",
       "      <td>272973979850</td>\n",
       "      <td>46822295</td>\n",
       "    </tr>\n",
       "    <tr>\n",
       "      <th>006840</th>\n",
       "      <td>AK홀딩스</td>\n",
       "      <td>27150</td>\n",
       "      <td>0</td>\n",
       "      <td>0.00</td>\n",
       "      <td>27000</td>\n",
       "      <td>27200</td>\n",
       "      <td>26250</td>\n",
       "      <td>21725</td>\n",
       "      <td>581595350</td>\n",
       "      <td>359671281150</td>\n",
       "      <td>13247561</td>\n",
       "    </tr>\n",
       "    <tr>\n",
       "      <th>027410</th>\n",
       "      <td>BGF</td>\n",
       "      <td>6250</td>\n",
       "      <td>-70</td>\n",
       "      <td>-1.11</td>\n",
       "      <td>6270</td>\n",
       "      <td>6350</td>\n",
       "      <td>6230</td>\n",
       "      <td>105306</td>\n",
       "      <td>661320960</td>\n",
       "      <td>598229943750</td>\n",
       "      <td>95716791</td>\n",
       "    </tr>\n",
       "    <tr>\n",
       "      <th>282330</th>\n",
       "      <td>BGF리테일</td>\n",
       "      <td>179000</td>\n",
       "      <td>-2000</td>\n",
       "      <td>-1.10</td>\n",
       "      <td>183000</td>\n",
       "      <td>183500</td>\n",
       "      <td>177500</td>\n",
       "      <td>23213</td>\n",
       "      <td>4178520500</td>\n",
       "      <td>3093819174000</td>\n",
       "      <td>17283906</td>\n",
       "    </tr>\n",
       "    <tr>\n",
       "      <th>138930</th>\n",
       "      <td>BNK금융지주</td>\n",
       "      <td>7970</td>\n",
       "      <td>50</td>\n",
       "      <td>0.63</td>\n",
       "      <td>7920</td>\n",
       "      <td>7970</td>\n",
       "      <td>7890</td>\n",
       "      <td>839034</td>\n",
       "      <td>6661342020</td>\n",
       "      <td>2597703910620</td>\n",
       "      <td>325935246</td>\n",
       "    </tr>\n",
       "  </tbody>\n",
       "</table>\n",
       "</div>"
      ],
      "text/plain": [
       "            종목명      종가    대비   등락률      시가      고가      저가     거래량  \\\n",
       "종목코드                                                                  \n",
       "095570   AJ네트웍스    5830  -130 -2.18    5980    5980    5800  133188   \n",
       "006840    AK홀딩스   27150     0  0.00   27000   27200   26250   21725   \n",
       "027410      BGF    6250   -70 -1.11    6270    6350    6230  105306   \n",
       "282330   BGF리테일  179000 -2000 -1.10  183000  183500  177500   23213   \n",
       "138930  BNK금융지주    7970    50  0.63    7920    7970    7890  839034   \n",
       "\n",
       "              거래대금           시가총액      상장주식수  \n",
       "종목코드                                          \n",
       "095570   780734220   272973979850   46822295  \n",
       "006840   581595350   359671281150   13247561  \n",
       "027410   661320960   598229943750   95716791  \n",
       "282330  4178520500  3093819174000   17283906  \n",
       "138930  6661342020  2597703910620  325935246  "
      ]
     },
     "execution_count": 195,
     "metadata": {},
     "output_type": "execute_result"
    }
   ],
   "source": [
    "df_13.head()"
   ]
  },
  {
   "cell_type": "code",
   "execution_count": 256,
   "metadata": {},
   "outputs": [],
   "source": [
    "df_13 = df_13[df_13['시가'] != 0]\n",
    "df_14 = df_14[df_14['시가'] != 0]"
   ]
  },
  {
   "cell_type": "code",
   "execution_count": 264,
   "metadata": {},
   "outputs": [
    {
     "name": "stdout",
     "output_type": "stream",
     "text": [
      "Index(['395400'], dtype='object', name='종목코드')\n",
      "SK리츠\n"
     ]
    }
   ],
   "source": [
    "idx = df_14.index.difference(df_13.index)\n",
    "print(idx)\n",
    "print(df_14.loc[idx[0], '종목명'])"
   ]
  },
  {
   "cell_type": "code",
   "execution_count": 258,
   "metadata": {},
   "outputs": [
    {
     "name": "stdout",
     "output_type": "stream",
     "text": [
      "1.0067170373639553\n"
     ]
    }
   ],
   "source": [
    "전일비교시가총액 = df_13['시가총액'].sum()\n",
    "전일기준시가총액 = df_13['시가총액'].sum()\n",
    "증감률 = (전일비교시가총액 + df_14.loc[idx[0], '시가총액']) / 전일비교시가총액\n",
    "당일기준시가총액 = 증감률 * 전일기준시가총액\n",
    "당일비교시가총액 = df_14['시가총액'].sum()\n",
    "print(당일비교시가총액 / 당일기준시가총액)"
   ]
  },
  {
   "cell_type": "code",
   "execution_count": 268,
   "metadata": {},
   "outputs": [
    {
     "name": "stdout",
     "output_type": "stream",
     "text": [
      "False\n"
     ]
    }
   ],
   "source": [
    "intersect_idx = df_14.index.intersection(df_13.index)\n",
    "t_13 = df_13.loc[intersect_idx]\n",
    "t_14 = df_14.loc[intersect_idx]\n",
    "cond = t_13['상장주식수'] != t_14['상장주식수']\n",
    "print(cond.all())"
   ]
  },
  {
   "cell_type": "code",
   "execution_count": 272,
   "metadata": {},
   "outputs": [
    {
     "data": {
      "text/plain": [
       "종목코드\n",
       "001570    499996\n",
       "011930      5661\n",
       "Name: 상장주식수, dtype: int64"
      ]
     },
     "execution_count": 272,
     "metadata": {},
     "output_type": "execute_result"
    }
   ],
   "source": [
    "t_14.loc[cond, '상장주식수'] - t_13.loc[cond, '상장주식수']"
   ]
  },
  {
   "cell_type": "code",
   "execution_count": 273,
   "metadata": {},
   "outputs": [
    {
     "name": "stdout",
     "output_type": "stream",
     "text": [
      "1.0067159326297976\n"
     ]
    }
   ],
   "source": [
    "주식수증가액 = (t_14.loc[cond, '상장주식수'] - t_13.loc[cond, '상장주식수']) * t_13.loc[cond, '종가']\n",
    "\n",
    "전일비교시가총액 = df_13['시가총액'].sum()\n",
    "전일기준시가총액 = df_13['시가총액'].sum()\n",
    "증감률 = (전일비교시가총액 + df_14.loc[idx[0], '시가총액'] + 주식수증가액.sum()) / 전일비교시가총액\n",
    "당일기준시가총액 = 증감률 * 전일기준시가총액\n",
    "당일비교시가총액 = df_14['시가총액'].sum()\n",
    "print(당일비교시가총액 / 당일기준시가총액)"
   ]
  },
  {
   "cell_type": "markdown",
   "metadata": {},
   "source": [
    "## 8.2 코스피와 삼성전자"
   ]
  },
  {
   "cell_type": "code",
   "execution_count": 278,
   "metadata": {},
   "outputs": [
    {
     "data": {
      "text/html": [
       "<div>\n",
       "<style scoped>\n",
       "    .dataframe tbody tr th:only-of-type {\n",
       "        vertical-align: middle;\n",
       "    }\n",
       "\n",
       "    .dataframe tbody tr th {\n",
       "        vertical-align: top;\n",
       "    }\n",
       "\n",
       "    .dataframe thead th {\n",
       "        text-align: right;\n",
       "    }\n",
       "</style>\n",
       "<table border=\"1\" class=\"dataframe\">\n",
       "  <thead>\n",
       "    <tr style=\"text-align: right;\">\n",
       "      <th></th>\n",
       "      <th>종목명</th>\n",
       "      <th>종가</th>\n",
       "      <th>시가총액</th>\n",
       "    </tr>\n",
       "    <tr>\n",
       "      <th>종목코드</th>\n",
       "      <th></th>\n",
       "      <th></th>\n",
       "      <th></th>\n",
       "    </tr>\n",
       "  </thead>\n",
       "  <tbody>\n",
       "    <tr>\n",
       "      <th>095570</th>\n",
       "      <td>AJ네트웍스</td>\n",
       "      <td>6000</td>\n",
       "      <td>280933770000</td>\n",
       "    </tr>\n",
       "    <tr>\n",
       "      <th>006840</th>\n",
       "      <td>AK홀딩스</td>\n",
       "      <td>27700</td>\n",
       "      <td>366957439700</td>\n",
       "    </tr>\n",
       "    <tr>\n",
       "      <th>027410</th>\n",
       "      <td>BGF</td>\n",
       "      <td>6260</td>\n",
       "      <td>599187111660</td>\n",
       "    </tr>\n",
       "    <tr>\n",
       "      <th>282330</th>\n",
       "      <td>BGF리테일</td>\n",
       "      <td>179000</td>\n",
       "      <td>3093819174000</td>\n",
       "    </tr>\n",
       "    <tr>\n",
       "      <th>138930</th>\n",
       "      <td>BNK금융지주</td>\n",
       "      <td>8070</td>\n",
       "      <td>2630297435220</td>\n",
       "    </tr>\n",
       "  </tbody>\n",
       "</table>\n",
       "</div>"
      ],
      "text/plain": [
       "            종목명      종가           시가총액\n",
       "종목코드                                  \n",
       "095570   AJ네트웍스    6000   280933770000\n",
       "006840    AK홀딩스   27700   366957439700\n",
       "027410      BGF    6260   599187111660\n",
       "282330   BGF리테일  179000  3093819174000\n",
       "138930  BNK금융지주    8070  2630297435220"
      ]
     },
     "execution_count": 278,
     "metadata": {},
     "output_type": "execute_result"
    }
   ],
   "source": [
    "import pandas as pd\n",
    "df = pd.read_excel('data/20210914.xlsx', index_col=0)\n",
    "df = df[['종목명', '종가', '시가총액']]\n",
    "df.head()"
   ]
  },
  {
   "cell_type": "code",
   "execution_count": 291,
   "metadata": {},
   "outputs": [
    {
     "data": {
      "text/html": [
       "<div>\n",
       "<style scoped>\n",
       "    .dataframe tbody tr th:only-of-type {\n",
       "        vertical-align: middle;\n",
       "    }\n",
       "\n",
       "    .dataframe tbody tr th {\n",
       "        vertical-align: top;\n",
       "    }\n",
       "\n",
       "    .dataframe thead th {\n",
       "        text-align: right;\n",
       "    }\n",
       "</style>\n",
       "<table border=\"1\" class=\"dataframe\">\n",
       "  <thead>\n",
       "    <tr style=\"text-align: right;\">\n",
       "      <th></th>\n",
       "      <th>종목명</th>\n",
       "      <th>종가</th>\n",
       "      <th>시가총액</th>\n",
       "    </tr>\n",
       "    <tr>\n",
       "      <th>종목코드</th>\n",
       "      <th></th>\n",
       "      <th></th>\n",
       "      <th></th>\n",
       "    </tr>\n",
       "  </thead>\n",
       "  <tbody>\n",
       "    <tr>\n",
       "      <th>095570</th>\n",
       "      <td>AJ네트웍스</td>\n",
       "      <td>6000</td>\n",
       "      <td>280933770000</td>\n",
       "    </tr>\n",
       "    <tr>\n",
       "      <th>006840</th>\n",
       "      <td>AK홀딩스</td>\n",
       "      <td>27700</td>\n",
       "      <td>366957439700</td>\n",
       "    </tr>\n",
       "    <tr>\n",
       "      <th>027410</th>\n",
       "      <td>BGF</td>\n",
       "      <td>6260</td>\n",
       "      <td>599187111660</td>\n",
       "    </tr>\n",
       "    <tr>\n",
       "      <th>282330</th>\n",
       "      <td>BGF리테일</td>\n",
       "      <td>179000</td>\n",
       "      <td>3093819174000</td>\n",
       "    </tr>\n",
       "    <tr>\n",
       "      <th>138930</th>\n",
       "      <td>BNK금융지주</td>\n",
       "      <td>8070</td>\n",
       "      <td>2630297435220</td>\n",
       "    </tr>\n",
       "  </tbody>\n",
       "</table>\n",
       "</div>"
      ],
      "text/plain": [
       "            종목명      종가           시가총액\n",
       "종목코드                                  \n",
       "095570   AJ네트웍스    6000   280933770000\n",
       "006840    AK홀딩스   27700   366957439700\n",
       "027410      BGF    6260   599187111660\n",
       "282330   BGF리테일  179000  3093819174000\n",
       "138930  BNK금융지주    8070  2630297435220"
      ]
     },
     "execution_count": 291,
     "metadata": {},
     "output_type": "execute_result"
    }
   ],
   "source": [
    "df = pd.read_excel('data/20210914.xlsx', index_col=0, usecols=[0, 1, 2, 10])\n",
    "df.head()"
   ]
  },
  {
   "cell_type": "code",
   "execution_count": 296,
   "metadata": {},
   "outputs": [
    {
     "data": {
      "text/html": [
       "<div>\n",
       "<style scoped>\n",
       "    .dataframe tbody tr th:only-of-type {\n",
       "        vertical-align: middle;\n",
       "    }\n",
       "\n",
       "    .dataframe tbody tr th {\n",
       "        vertical-align: top;\n",
       "    }\n",
       "\n",
       "    .dataframe thead th {\n",
       "        text-align: right;\n",
       "    }\n",
       "</style>\n",
       "<table border=\"1\" class=\"dataframe\">\n",
       "  <thead>\n",
       "    <tr style=\"text-align: right;\">\n",
       "      <th></th>\n",
       "      <th>종목명</th>\n",
       "      <th>종가</th>\n",
       "      <th>시가총액</th>\n",
       "      <th>비중</th>\n",
       "    </tr>\n",
       "    <tr>\n",
       "      <th>종목코드</th>\n",
       "      <th></th>\n",
       "      <th></th>\n",
       "      <th></th>\n",
       "      <th></th>\n",
       "    </tr>\n",
       "  </thead>\n",
       "  <tbody>\n",
       "    <tr>\n",
       "      <th>005930</th>\n",
       "      <td>삼성전자</td>\n",
       "      <td>76600</td>\n",
       "      <td>457285343330000</td>\n",
       "      <td>20.054103</td>\n",
       "    </tr>\n",
       "    <tr>\n",
       "      <th>000660</th>\n",
       "      <td>SK하이닉스</td>\n",
       "      <td>107500</td>\n",
       "      <td>78260254237500</td>\n",
       "      <td>3.432078</td>\n",
       "    </tr>\n",
       "    <tr>\n",
       "      <th>035420</th>\n",
       "      <td>NAVER</td>\n",
       "      <td>402500</td>\n",
       "      <td>66116016487500</td>\n",
       "      <td>2.899497</td>\n",
       "    </tr>\n",
       "    <tr>\n",
       "      <th>207940</th>\n",
       "      <td>삼성바이오로직스</td>\n",
       "      <td>913000</td>\n",
       "      <td>60408645000000</td>\n",
       "      <td>2.649202</td>\n",
       "    </tr>\n",
       "    <tr>\n",
       "      <th>005935</th>\n",
       "      <td>삼성전자우</td>\n",
       "      <td>71400</td>\n",
       "      <td>58754110380000</td>\n",
       "      <td>2.576643</td>\n",
       "    </tr>\n",
       "  </tbody>\n",
       "</table>\n",
       "</div>"
      ],
      "text/plain": [
       "             종목명      종가             시가총액         비중\n",
       "종목코드                                                \n",
       "005930      삼성전자   76600  457285343330000  20.054103\n",
       "000660    SK하이닉스  107500   78260254237500   3.432078\n",
       "035420     NAVER  402500   66116016487500   2.899497\n",
       "207940  삼성바이오로직스  913000   60408645000000   2.649202\n",
       "005935     삼성전자우   71400   58754110380000   2.576643"
      ]
     },
     "execution_count": 296,
     "metadata": {},
     "output_type": "execute_result"
    }
   ],
   "source": [
    "df['비중'] = df['시가총액'] / df['시가총액'].sum() * 100\n",
    "df.sort_values('시가총액', ascending=False).head()"
   ]
  },
  {
   "cell_type": "code",
   "execution_count": 315,
   "metadata": {},
   "outputs": [
    {
     "data": {
      "text/html": [
       "<div>\n",
       "<style scoped>\n",
       "    .dataframe tbody tr th:only-of-type {\n",
       "        vertical-align: middle;\n",
       "    }\n",
       "\n",
       "    .dataframe tbody tr th {\n",
       "        vertical-align: top;\n",
       "    }\n",
       "\n",
       "    .dataframe thead th {\n",
       "        text-align: right;\n",
       "    }\n",
       "</style>\n",
       "<table border=\"1\" class=\"dataframe\">\n",
       "  <thead>\n",
       "    <tr style=\"text-align: right;\">\n",
       "      <th></th>\n",
       "      <th>kospi</th>\n",
       "      <th>samsung</th>\n",
       "    </tr>\n",
       "  </thead>\n",
       "  <tbody>\n",
       "    <tr>\n",
       "      <th>0</th>\n",
       "      <td>3199.27</td>\n",
       "      <td>76700</td>\n",
       "    </tr>\n",
       "    <tr>\n",
       "      <th>1</th>\n",
       "      <td>3144.19</td>\n",
       "      <td>74600</td>\n",
       "    </tr>\n",
       "    <tr>\n",
       "      <th>2</th>\n",
       "      <td>3133.90</td>\n",
       "      <td>74300</td>\n",
       "    </tr>\n",
       "    <tr>\n",
       "      <th>3</th>\n",
       "      <td>3128.53</td>\n",
       "      <td>74600</td>\n",
       "    </tr>\n",
       "    <tr>\n",
       "      <th>4</th>\n",
       "      <td>3146.81</td>\n",
       "      <td>75700</td>\n",
       "    </tr>\n",
       "  </tbody>\n",
       "</table>\n",
       "</div>"
      ],
      "text/plain": [
       "     kospi  samsung\n",
       "0  3199.27    76700\n",
       "1  3144.19    74600\n",
       "2  3133.90    74300\n",
       "3  3128.53    74600\n",
       "4  3146.81    75700"
      ]
     },
     "execution_count": 315,
     "metadata": {},
     "output_type": "execute_result"
    }
   ],
   "source": [
    "import numpy as np\n",
    "\n",
    "kospi = pd.read_excel(\"data/kospi.xlsx\")\n",
    "samsung = pd.read_excel(\"data/samsung.xlsx\")\n",
    "\n",
    "data = [ kospi['종가'], samsung['종가'] ]\n",
    "df = pd.concat(data, axis=1, keys=[\"kospi\", \"samsung\"])\n",
    "df.head()"
   ]
  },
  {
   "cell_type": "code",
   "execution_count": 317,
   "metadata": {},
   "outputs": [
    {
     "data": {
      "text/plain": [
       "<AxesSubplot:xlabel='samsung', ylabel='kospi'>"
      ]
     },
     "execution_count": 317,
     "metadata": {},
     "output_type": "execute_result"
    },
    {
     "data": {
      "image/png": "[encoded data removed]",
      "text/plain": [
       "<Figure size 432x288 with 1 Axes>"
      ]
     },
     "metadata": {
      "needs_background": "light"
     },
     "output_type": "display_data"
    }
   ],
   "source": [
    "df.plot.scatter(x='samsung', y='kospi')"
   ]
  },
  {
   "cell_type": "code",
   "execution_count": 318,
   "metadata": {},
   "outputs": [
    {
     "data": {
      "text/html": [
       "<div>\n",
       "<style scoped>\n",
       "    .dataframe tbody tr th:only-of-type {\n",
       "        vertical-align: middle;\n",
       "    }\n",
       "\n",
       "    .dataframe tbody tr th {\n",
       "        vertical-align: top;\n",
       "    }\n",
       "\n",
       "    .dataframe thead th {\n",
       "        text-align: right;\n",
       "    }\n",
       "</style>\n",
       "<table border=\"1\" class=\"dataframe\">\n",
       "  <thead>\n",
       "    <tr style=\"text-align: right;\">\n",
       "      <th></th>\n",
       "      <th>kospi</th>\n",
       "      <th>samsung</th>\n",
       "    </tr>\n",
       "  </thead>\n",
       "  <tbody>\n",
       "    <tr>\n",
       "      <th>kospi</th>\n",
       "      <td>1.000000</td>\n",
       "      <td>0.966597</td>\n",
       "    </tr>\n",
       "    <tr>\n",
       "      <th>samsung</th>\n",
       "      <td>0.966597</td>\n",
       "      <td>1.000000</td>\n",
       "    </tr>\n",
       "  </tbody>\n",
       "</table>\n",
       "</div>"
      ],
      "text/plain": [
       "            kospi   samsung\n",
       "kospi    1.000000  0.966597\n",
       "samsung  0.966597  1.000000"
      ]
     },
     "execution_count": 318,
     "metadata": {},
     "output_type": "execute_result"
    }
   ],
   "source": [
    "df.corr()"
   ]
  },
  {
   "cell_type": "markdown",
   "metadata": {},
   "source": [
    "## 8.3 코스피 통계"
   ]
  },
  {
   "cell_type": "code",
   "execution_count": 2,
   "metadata": {},
   "outputs": [
    {
     "data": {
      "text/html": [
       "<div>\n",
       "<style scoped>\n",
       "    .dataframe tbody tr th:only-of-type {\n",
       "        vertical-align: middle;\n",
       "    }\n",
       "\n",
       "    .dataframe tbody tr th {\n",
       "        vertical-align: top;\n",
       "    }\n",
       "\n",
       "    .dataframe thead th {\n",
       "        text-align: right;\n",
       "    }\n",
       "</style>\n",
       "<table border=\"1\" class=\"dataframe\">\n",
       "  <thead>\n",
       "    <tr style=\"text-align: right;\">\n",
       "      <th></th>\n",
       "      <th>종가</th>\n",
       "      <th>대비</th>\n",
       "      <th>등락률</th>\n",
       "      <th>시가</th>\n",
       "      <th>고가</th>\n",
       "      <th>저가</th>\n",
       "      <th>거래량</th>\n",
       "      <th>거래대금</th>\n",
       "      <th>상장시가총액</th>\n",
       "    </tr>\n",
       "    <tr>\n",
       "      <th>일자</th>\n",
       "      <th></th>\n",
       "      <th></th>\n",
       "      <th></th>\n",
       "      <th></th>\n",
       "      <th></th>\n",
       "      <th></th>\n",
       "      <th></th>\n",
       "      <th></th>\n",
       "      <th></th>\n",
       "    </tr>\n",
       "  </thead>\n",
       "  <tbody>\n",
       "    <tr>\n",
       "      <th>2021-08-31</th>\n",
       "      <td>3199.27</td>\n",
       "      <td>55.08</td>\n",
       "      <td>1.75</td>\n",
       "      <td>3144.49</td>\n",
       "      <td>3199.89</td>\n",
       "      <td>3130.30</td>\n",
       "      <td>661221</td>\n",
       "      <td>15863630</td>\n",
       "      <td>2309062613</td>\n",
       "    </tr>\n",
       "    <tr>\n",
       "      <th>2021-08-30</th>\n",
       "      <td>3144.19</td>\n",
       "      <td>10.29</td>\n",
       "      <td>0.33</td>\n",
       "      <td>3160.87</td>\n",
       "      <td>3164.87</td>\n",
       "      <td>3132.77</td>\n",
       "      <td>602858</td>\n",
       "      <td>11758710</td>\n",
       "      <td>2269580866</td>\n",
       "    </tr>\n",
       "    <tr>\n",
       "      <th>2021-08-27</th>\n",
       "      <td>3133.90</td>\n",
       "      <td>5.37</td>\n",
       "      <td>0.17</td>\n",
       "      <td>3116.29</td>\n",
       "      <td>3143.01</td>\n",
       "      <td>3106.97</td>\n",
       "      <td>520669</td>\n",
       "      <td>11039934</td>\n",
       "      <td>2262422712</td>\n",
       "    </tr>\n",
       "    <tr>\n",
       "      <th>2021-08-26</th>\n",
       "      <td>3128.53</td>\n",
       "      <td>-18.28</td>\n",
       "      <td>-0.58</td>\n",
       "      <td>3151.30</td>\n",
       "      <td>3159.37</td>\n",
       "      <td>3121.04</td>\n",
       "      <td>727719</td>\n",
       "      <td>13335288</td>\n",
       "      <td>2259280094</td>\n",
       "    </tr>\n",
       "    <tr>\n",
       "      <th>2021-08-25</th>\n",
       "      <td>3146.81</td>\n",
       "      <td>8.51</td>\n",
       "      <td>0.27</td>\n",
       "      <td>3148.13</td>\n",
       "      <td>3161.00</td>\n",
       "      <td>3124.25</td>\n",
       "      <td>624688</td>\n",
       "      <td>13365596</td>\n",
       "      <td>2272311235</td>\n",
       "    </tr>\n",
       "  </tbody>\n",
       "</table>\n",
       "</div>"
      ],
      "text/plain": [
       "                 종가     대비   등락률       시가       고가       저가     거래량      거래대금  \\\n",
       "일자                                                                              \n",
       "2021-08-31  3199.27  55.08  1.75  3144.49  3199.89  3130.30  661221  15863630   \n",
       "2021-08-30  3144.19  10.29  0.33  3160.87  3164.87  3132.77  602858  11758710   \n",
       "2021-08-27  3133.90   5.37  0.17  3116.29  3143.01  3106.97  520669  11039934   \n",
       "2021-08-26  3128.53 -18.28 -0.58  3151.30  3159.37  3121.04  727719  13335288   \n",
       "2021-08-25  3146.81   8.51  0.27  3148.13  3161.00  3124.25  624688  13365596   \n",
       "\n",
       "                상장시가총액  \n",
       "일자                      \n",
       "2021-08-31  2309062613  \n",
       "2021-08-30  2269580866  \n",
       "2021-08-27  2262422712  \n",
       "2021-08-26  2259280094  \n",
       "2021-08-25  2272311235  "
      ]
     },
     "execution_count": 2,
     "metadata": {},
     "output_type": "execute_result"
    }
   ],
   "source": [
    "import pandas as pd \n",
    "\n",
    "kospi = pd.read_excel(\"data/kospi.xlsx\", index_col=0, parse_dates=True)\n",
    "kospi.head()"
   ]
  },
  {
   "cell_type": "code",
   "execution_count": 3,
   "metadata": {},
   "outputs": [
    {
     "name": "stdout",
     "output_type": "stream",
     "text": [
      "3305.21\n",
      "1457.64\n"
     ]
    }
   ],
   "source": [
    "print(kospi['종가'].max())\n",
    "print(kospi['종가'].min())"
   ]
  },
  {
   "cell_type": "code",
   "execution_count": 4,
   "metadata": {},
   "outputs": [
    {
     "data": {
      "text/html": [
       "<div>\n",
       "<style scoped>\n",
       "    .dataframe tbody tr th:only-of-type {\n",
       "        vertical-align: middle;\n",
       "    }\n",
       "\n",
       "    .dataframe tbody tr th {\n",
       "        vertical-align: top;\n",
       "    }\n",
       "\n",
       "    .dataframe thead th {\n",
       "        text-align: right;\n",
       "    }\n",
       "</style>\n",
       "<table border=\"1\" class=\"dataframe\">\n",
       "  <thead>\n",
       "    <tr style=\"text-align: right;\">\n",
       "      <th></th>\n",
       "      <th>종가</th>\n",
       "      <th>대비</th>\n",
       "      <th>등락률</th>\n",
       "      <th>시가</th>\n",
       "      <th>고가</th>\n",
       "      <th>저가</th>\n",
       "      <th>거래량</th>\n",
       "      <th>거래대금</th>\n",
       "      <th>상장시가총액</th>\n",
       "    </tr>\n",
       "    <tr>\n",
       "      <th>일자</th>\n",
       "      <th></th>\n",
       "      <th></th>\n",
       "      <th></th>\n",
       "      <th></th>\n",
       "      <th></th>\n",
       "      <th></th>\n",
       "      <th></th>\n",
       "      <th></th>\n",
       "      <th></th>\n",
       "    </tr>\n",
       "  </thead>\n",
       "  <tbody>\n",
       "    <tr>\n",
       "      <th>2021-07-06</th>\n",
       "      <td>3305.21</td>\n",
       "      <td>12.0</td>\n",
       "      <td>0.36</td>\n",
       "      <td>3295.44</td>\n",
       "      <td>3313.51</td>\n",
       "      <td>3295.44</td>\n",
       "      <td>1029465</td>\n",
       "      <td>14686383</td>\n",
       "      <td>2314417370</td>\n",
       "    </tr>\n",
       "  </tbody>\n",
       "</table>\n",
       "</div>"
      ],
      "text/plain": [
       "                 종가    대비   등락률       시가       고가       저가      거래량      거래대금  \\\n",
       "일자                                                                              \n",
       "2021-07-06  3305.21  12.0  0.36  3295.44  3313.51  3295.44  1029465  14686383   \n",
       "\n",
       "                상장시가총액  \n",
       "일자                      \n",
       "2021-07-06  2314417370  "
      ]
     },
     "execution_count": 4,
     "metadata": {},
     "output_type": "execute_result"
    }
   ],
   "source": [
    "cond = kospi['종가'] == kospi['종가'].max()\n",
    "kospi.loc[cond]"
   ]
  },
  {
   "cell_type": "code",
   "execution_count": 5,
   "metadata": {},
   "outputs": [
    {
     "name": "stdout",
     "output_type": "stream",
     "text": [
      "DatetimeIndex(['2021-07-06'], dtype='datetime64[ns]', name='일자', freq=None)\n",
      "2021-07-06 00:00:00\n"
     ]
    }
   ],
   "source": [
    "print(kospi.loc[cond].index)\n",
    "print(kospi.loc[cond].index[0])"
   ]
  },
  {
   "cell_type": "code",
   "execution_count": 6,
   "metadata": {},
   "outputs": [
    {
     "name": "stdout",
     "output_type": "stream",
     "text": [
      "2021-07-06 00:00:00\n",
      "2020-03-19 00:00:00\n"
     ]
    }
   ],
   "source": [
    "print(kospi['종가'].idxmax())\n",
    "print(kospi['종가'].idxmin())"
   ]
  },
  {
   "cell_type": "code",
   "execution_count": 7,
   "metadata": {},
   "outputs": [
    {
     "data": {
      "text/html": [
       "<div>\n",
       "<style scoped>\n",
       "    .dataframe tbody tr th:only-of-type {\n",
       "        vertical-align: middle;\n",
       "    }\n",
       "\n",
       "    .dataframe tbody tr th {\n",
       "        vertical-align: top;\n",
       "    }\n",
       "\n",
       "    .dataframe thead th {\n",
       "        text-align: right;\n",
       "    }\n",
       "</style>\n",
       "<table border=\"1\" class=\"dataframe\">\n",
       "  <thead>\n",
       "    <tr style=\"text-align: right;\">\n",
       "      <th></th>\n",
       "      <th>종가</th>\n",
       "      <th>변동폭</th>\n",
       "    </tr>\n",
       "    <tr>\n",
       "      <th>일자</th>\n",
       "      <th></th>\n",
       "      <th></th>\n",
       "    </tr>\n",
       "  </thead>\n",
       "  <tbody>\n",
       "    <tr>\n",
       "      <th>2020/03/23</th>\n",
       "      <td>1482.46</td>\n",
       "      <td>-127.51</td>\n",
       "    </tr>\n",
       "    <tr>\n",
       "      <th>2021/01/07</th>\n",
       "      <td>3031.68</td>\n",
       "      <td>-120.50</td>\n",
       "    </tr>\n",
       "    <tr>\n",
       "      <th>2020/03/19</th>\n",
       "      <td>1457.64</td>\n",
       "      <td>-108.51</td>\n",
       "    </tr>\n",
       "    <tr>\n",
       "      <th>2020/06/15</th>\n",
       "      <td>2030.82</td>\n",
       "      <td>-107.23</td>\n",
       "    </tr>\n",
       "    <tr>\n",
       "      <th>2021/02/24</th>\n",
       "      <td>2994.98</td>\n",
       "      <td>-104.71</td>\n",
       "    </tr>\n",
       "  </tbody>\n",
       "</table>\n",
       "</div>"
      ],
      "text/plain": [
       "                 종가     변동폭\n",
       "일자                         \n",
       "2020/03/23  1482.46 -127.51\n",
       "2021/01/07  3031.68 -120.50\n",
       "2020/03/19  1457.64 -108.51\n",
       "2020/06/15  2030.82 -107.23\n",
       "2021/02/24  2994.98 -104.71"
      ]
     },
     "execution_count": 7,
     "metadata": {},
     "output_type": "execute_result"
    }
   ],
   "source": [
    "kospi = pd.read_excel(\"data/kospi.xlsx\", index_col=0, usecols=[0, 1])\n",
    "kospi[\"변동폭\"] = kospi[\"종가\"] - kospi[\"종가\"].shift(1)\n",
    "kospi.sort_values('변동폭').iloc[:5]"
   ]
  },
  {
   "cell_type": "code",
   "execution_count": 8,
   "metadata": {},
   "outputs": [
    {
     "data": {
      "text/html": [
       "<div>\n",
       "<style scoped>\n",
       "    .dataframe tbody tr th:only-of-type {\n",
       "        vertical-align: middle;\n",
       "    }\n",
       "\n",
       "    .dataframe tbody tr th {\n",
       "        vertical-align: top;\n",
       "    }\n",
       "\n",
       "    .dataframe thead th {\n",
       "        text-align: right;\n",
       "    }\n",
       "</style>\n",
       "<table border=\"1\" class=\"dataframe\">\n",
       "  <thead>\n",
       "    <tr style=\"text-align: right;\">\n",
       "      <th></th>\n",
       "      <th>종가</th>\n",
       "      <th>변동폭</th>\n",
       "    </tr>\n",
       "    <tr>\n",
       "      <th>일자</th>\n",
       "      <th></th>\n",
       "      <th></th>\n",
       "    </tr>\n",
       "  </thead>\n",
       "  <tbody>\n",
       "    <tr>\n",
       "      <th>2020/03/18</th>\n",
       "      <td>1591.20</td>\n",
       "      <td>133.56</td>\n",
       "    </tr>\n",
       "    <tr>\n",
       "      <th>2020/06/12</th>\n",
       "      <td>2132.30</td>\n",
       "      <td>101.48</td>\n",
       "    </tr>\n",
       "    <tr>\n",
       "      <th>2021/01/28</th>\n",
       "      <td>3069.05</td>\n",
       "      <td>92.84</td>\n",
       "    </tr>\n",
       "    <tr>\n",
       "      <th>2021/02/25</th>\n",
       "      <td>3099.69</td>\n",
       "      <td>86.74</td>\n",
       "    </tr>\n",
       "    <tr>\n",
       "      <th>2020/08/19</th>\n",
       "      <td>2360.54</td>\n",
       "      <td>86.32</td>\n",
       "    </tr>\n",
       "  </tbody>\n",
       "</table>\n",
       "</div>"
      ],
      "text/plain": [
       "                 종가     변동폭\n",
       "일자                         \n",
       "2020/03/18  1591.20  133.56\n",
       "2020/06/12  2132.30  101.48\n",
       "2021/01/28  3069.05   92.84\n",
       "2021/02/25  3099.69   86.74\n",
       "2020/08/19  2360.54   86.32"
      ]
     },
     "execution_count": 8,
     "metadata": {},
     "output_type": "execute_result"
    }
   ],
   "source": [
    "kospi.sort_values('변동폭', ascending=False).iloc[:5]"
   ]
  },
  {
   "cell_type": "code",
   "execution_count": 9,
   "metadata": {},
   "outputs": [
    {
     "name": "stdout",
     "output_type": "stream",
     "text": [
      "일자\n",
      "2020/03/18    133.56\n",
      "2020/06/12    101.48\n",
      "2021/01/28     92.84\n",
      "2021/02/25     86.74\n",
      "2020/08/19     86.32\n",
      "Name: 변동폭, dtype: float64\n",
      "일자\n",
      "2020/03/23   -127.51\n",
      "2021/01/07   -120.50\n",
      "2020/03/19   -108.51\n",
      "2020/06/15   -107.23\n",
      "2021/02/24   -104.71\n",
      "Name: 변동폭, dtype: float64\n"
     ]
    }
   ],
   "source": [
    "print(kospi[\"변동폭\"].nlargest(n=5))\n",
    "print(kospi[\"변동폭\"].nsmallest(n=5))"
   ]
  },
  {
   "cell_type": "code",
   "execution_count": 10,
   "metadata": {},
   "outputs": [
    {
     "data": {
      "text/html": [
       "<div>\n",
       "<style scoped>\n",
       "    .dataframe tbody tr th:only-of-type {\n",
       "        vertical-align: middle;\n",
       "    }\n",
       "\n",
       "    .dataframe tbody tr th {\n",
       "        vertical-align: top;\n",
       "    }\n",
       "\n",
       "    .dataframe thead th {\n",
       "        text-align: right;\n",
       "    }\n",
       "</style>\n",
       "<table border=\"1\" class=\"dataframe\">\n",
       "  <thead>\n",
       "    <tr style=\"text-align: right;\">\n",
       "      <th></th>\n",
       "      <th>시가</th>\n",
       "      <th>고가</th>\n",
       "      <th>저가</th>\n",
       "      <th>종가</th>\n",
       "      <th>거래량</th>\n",
       "    </tr>\n",
       "    <tr>\n",
       "      <th>일자</th>\n",
       "      <th></th>\n",
       "      <th></th>\n",
       "      <th></th>\n",
       "      <th></th>\n",
       "      <th></th>\n",
       "    </tr>\n",
       "  </thead>\n",
       "  <tbody>\n",
       "    <tr>\n",
       "      <th>2020-01-31</th>\n",
       "      <td>2201.21</td>\n",
       "      <td>2277.23</td>\n",
       "      <td>2119.01</td>\n",
       "      <td>2119.01</td>\n",
       "      <td>13096068</td>\n",
       "    </tr>\n",
       "    <tr>\n",
       "      <th>2020-02-29</th>\n",
       "      <td>2086.61</td>\n",
       "      <td>2255.49</td>\n",
       "      <td>1980.82</td>\n",
       "      <td>1987.01</td>\n",
       "      <td>13959766</td>\n",
       "    </tr>\n",
       "    <tr>\n",
       "      <th>2020-03-31</th>\n",
       "      <td>1997.03</td>\n",
       "      <td>2089.08</td>\n",
       "      <td>1439.43</td>\n",
       "      <td>1754.64</td>\n",
       "      <td>17091025</td>\n",
       "    </tr>\n",
       "    <tr>\n",
       "      <th>2020-04-30</th>\n",
       "      <td>1737.28</td>\n",
       "      <td>1957.51</td>\n",
       "      <td>1664.13</td>\n",
       "      <td>1947.56</td>\n",
       "      <td>21045123</td>\n",
       "    </tr>\n",
       "    <tr>\n",
       "      <th>2020-05-31</th>\n",
       "      <td>1906.42</td>\n",
       "      <td>2054.52</td>\n",
       "      <td>1894.29</td>\n",
       "      <td>2029.60</td>\n",
       "      <td>16206497</td>\n",
       "    </tr>\n",
       "  </tbody>\n",
       "</table>\n",
       "</div>"
      ],
      "text/plain": [
       "                 시가       고가       저가       종가       거래량\n",
       "일자                                                      \n",
       "2020-01-31  2201.21  2277.23  2119.01  2119.01  13096068\n",
       "2020-02-29  2086.61  2255.49  1980.82  1987.01  13959766\n",
       "2020-03-31  1997.03  2089.08  1439.43  1754.64  17091025\n",
       "2020-04-30  1737.28  1957.51  1664.13  1947.56  21045123\n",
       "2020-05-31  1906.42  2054.52  1894.29  2029.60  16206497"
      ]
     },
     "execution_count": 10,
     "metadata": {},
     "output_type": "execute_result"
    }
   ],
   "source": [
    "kospi = pd.read_excel(\"data/kospi.xlsx\", usecols=[0, 1, 4, 5, 6, 7], parse_dates=[0])\n",
    "how = {\n",
    "    '시가' : 'first',\n",
    "    '고가' : max,\n",
    "    '저가' : min,\n",
    "    '종가' : 'last',\n",
    "    '거래량' : sum\n",
    "}\n",
    "df = kospi.groupby( pd.Grouper(key='일자', freq='m') ).agg(how)\n",
    "df.head()"
   ]
  },
  {
   "cell_type": "code",
   "execution_count": 11,
   "metadata": {},
   "outputs": [
    {
     "name": "stdout",
     "output_type": "stream",
     "text": [
      "2311.86\n",
      "2020-08-05 00:00:00\n"
     ]
    }
   ],
   "source": [
    "kospi = pd.read_excel(\"data/kospi.xlsx\", usecols=[0, 1], index_col=0, parse_dates=True)\n",
    "kospi = kospi.sort_index()\n",
    "\n",
    "threshold = 2300\n",
    "cond = kospi['종가'] >= threshold\n",
    "print(kospi.loc[cond, '종가'].iloc[0])\n",
    "print(kospi.loc[cond, '종가'].index[0])"
   ]
  },
  {
   "cell_type": "code",
   "execution_count": 12,
   "metadata": {},
   "outputs": [
    {
     "name": "stdout",
     "output_type": "stream",
     "text": [
      "2300 2311.86 2020-08-05 00:00:00\n",
      "2400 2418.67 2020-08-11 00:00:00\n",
      "2500 2543.03 2020-11-16 00:00:00\n",
      "2600 2602.59 2020-11-23 00:00:00\n",
      "2700 2731.45 2020-12-04 00:00:00\n",
      "2800 2806.86 2020-12-24 00:00:00\n",
      "2900 2944.45 2021-01-04 00:00:00\n",
      "3000 3031.68 2021-01-07 00:00:00\n"
     ]
    }
   ],
   "source": [
    "for threshold in range(2300, 3100, 100):\n",
    "    cond = kospi['종가'] >= threshold\n",
    "    print(threshold, kospi.loc[cond, '종가'].iloc[0], kospi.loc[cond, '종가'].index[0])"
   ]
  },
  {
   "cell_type": "code",
   "execution_count": 13,
   "metadata": {},
   "outputs": [
    {
     "data": {
      "text/html": [
       "<div>\n",
       "<style scoped>\n",
       "    .dataframe tbody tr th:only-of-type {\n",
       "        vertical-align: middle;\n",
       "    }\n",
       "\n",
       "    .dataframe tbody tr th {\n",
       "        vertical-align: top;\n",
       "    }\n",
       "\n",
       "    .dataframe thead th {\n",
       "        text-align: right;\n",
       "    }\n",
       "</style>\n",
       "<table border=\"1\" class=\"dataframe\">\n",
       "  <thead>\n",
       "    <tr style=\"text-align: right;\">\n",
       "      <th></th>\n",
       "      <th>이벤트</th>\n",
       "      <th>일자</th>\n",
       "      <th>지수</th>\n",
       "    </tr>\n",
       "  </thead>\n",
       "  <tbody>\n",
       "    <tr>\n",
       "      <th>0</th>\n",
       "      <td>2300 포인트 돌파</td>\n",
       "      <td>2020-08-05</td>\n",
       "      <td>2311.86</td>\n",
       "    </tr>\n",
       "    <tr>\n",
       "      <th>1</th>\n",
       "      <td>2400 포인트 돌파</td>\n",
       "      <td>2020-08-11</td>\n",
       "      <td>2418.67</td>\n",
       "    </tr>\n",
       "    <tr>\n",
       "      <th>2</th>\n",
       "      <td>2500 포인트 돌파</td>\n",
       "      <td>2020-11-16</td>\n",
       "      <td>2543.03</td>\n",
       "    </tr>\n",
       "    <tr>\n",
       "      <th>3</th>\n",
       "      <td>2600 포인트 돌파</td>\n",
       "      <td>2020-11-23</td>\n",
       "      <td>2602.59</td>\n",
       "    </tr>\n",
       "    <tr>\n",
       "      <th>4</th>\n",
       "      <td>2700 포인트 돌파</td>\n",
       "      <td>2020-12-04</td>\n",
       "      <td>2731.45</td>\n",
       "    </tr>\n",
       "    <tr>\n",
       "      <th>5</th>\n",
       "      <td>2800 포인트 돌파</td>\n",
       "      <td>2020-12-24</td>\n",
       "      <td>2806.86</td>\n",
       "    </tr>\n",
       "    <tr>\n",
       "      <th>6</th>\n",
       "      <td>2900 포인트 돌파</td>\n",
       "      <td>2021-01-04</td>\n",
       "      <td>2944.45</td>\n",
       "    </tr>\n",
       "    <tr>\n",
       "      <th>7</th>\n",
       "      <td>3000 포인트 돌파</td>\n",
       "      <td>2021-01-07</td>\n",
       "      <td>3031.68</td>\n",
       "    </tr>\n",
       "  </tbody>\n",
       "</table>\n",
       "</div>"
      ],
      "text/plain": [
       "           이벤트         일자       지수\n",
       "0  2300 포인트 돌파 2020-08-05  2311.86\n",
       "1  2400 포인트 돌파 2020-08-11  2418.67\n",
       "2  2500 포인트 돌파 2020-11-16  2543.03\n",
       "3  2600 포인트 돌파 2020-11-23  2602.59\n",
       "4  2700 포인트 돌파 2020-12-04  2731.45\n",
       "5  2800 포인트 돌파 2020-12-24  2806.86\n",
       "6  2900 포인트 돌파 2021-01-04  2944.45\n",
       "7  3000 포인트 돌파 2021-01-07  3031.68"
      ]
     },
     "execution_count": 13,
     "metadata": {},
     "output_type": "execute_result"
    }
   ],
   "source": [
    "data = [ ]\n",
    "for threshold in range(2300, 3100, 100):\n",
    "    cond = kospi['종가'] > threshold\n",
    "    data.append( (f'{threshold} 포인트 돌파', kospi.index[cond][0], kospi.loc[cond, '종가'].iloc[0]) )\n",
    "\n",
    "df = pd.DataFrame(data, columns=['이벤트', '일자', '지수'])\n",
    "df"
   ]
  },
  {
   "cell_type": "markdown",
   "metadata": {},
   "source": [
    "## 8.4 시장수익률"
   ]
  },
  {
   "cell_type": "code",
   "execution_count": 46,
   "metadata": {},
   "outputs": [
    {
     "name": "stdout",
     "output_type": "stream",
     "text": [
      "47.081377547502036\n"
     ]
    }
   ],
   "source": [
    "import pandas as pd\n",
    "kospi = pd.read_excel(\"data/kospi.xlsx\", usecols=[0, 1], index_col=0, parse_dates=True)\n",
    "kospi = kospi.sort_index()\n",
    "수익률 = kospi.iloc[-1, 0]/kospi.iloc[0, 0]\n",
    "print( (수익률 - 1) * 100 )"
   ]
  },
  {
   "cell_type": "code",
   "execution_count": 47,
   "metadata": {},
   "outputs": [
    {
     "name": "stdout",
     "output_type": "stream",
     "text": [
      "26.111719470122587\n"
     ]
    }
   ],
   "source": [
    "diff = (kospi.index[-1] - kospi.index[0])\n",
    "투자기간 = diff.days / 365\n",
    "cagr = 수익률 ** (1/투자기간) -1\n",
    "print(cagr * 100)"
   ]
  },
  {
   "cell_type": "code",
   "execution_count": 48,
   "metadata": {},
   "outputs": [
    {
     "name": "stdout",
     "output_type": "stream",
     "text": [
      "21.871470174981077\n"
     ]
    }
   ],
   "source": [
    "ss = pd.read_excel(\"data/samsung.xlsx\", usecols=[0, 1], index_col=0, parse_dates=True)\n",
    "ss = ss.sort_index()\n",
    "수익률 = ss.iloc[-1, 0]/ss.iloc[0, 0]\n",
    "diff = (ss.index[-1] - ss.index[0])\n",
    "투자기간 = diff.days / 365\n",
    "cagr = 수익률 ** (1/투자기간) -1\n",
    "print(cagr * 100)"
   ]
  },
  {
   "cell_type": "code",
   "execution_count": 60,
   "metadata": {},
   "outputs": [
    {
     "data": {
      "text/plain": [
       "<AxesSubplot:xlabel='date'>"
      ]
     },
     "execution_count": 60,
     "metadata": {},
     "output_type": "execute_result"
    },
    {
     "data": {
      "image/png": "[encoded data removed]",
      "text/plain": [
       "<Figure size 864x360 with 1 Axes>"
      ]
     },
     "metadata": {
      "needs_background": "light"
     },
     "output_type": "display_data"
    }
   ],
   "source": [
    "kospi_return = kospi['종가']/kospi.iloc[0, 0]\n",
    "ss_return = ss['종가']/ss.iloc[0, 0]\n",
    "\n",
    "df = pd.concat([kospi_return, ss_return], axis=1, keys=[\"kospi\", \"samsung\"])\n",
    "df.index.name = 'date'\n",
    "df.plot(figsize=(12, 5))"
   ]
  },
  {
   "cell_type": "code",
   "execution_count": 55,
   "metadata": {},
   "outputs": [],
   "source": [
    "'"
   ]
  },
  {
   "cell_type": "code",
   "execution_count": null,
   "metadata": {},
   "outputs": [],
   "source": [
    "from statsmodels.formula.api import ols"
   ]
  },
  {
   "cell_type": "code",
   "execution_count": null,
   "metadata": {},
   "outputs": [],
   "source": [
    "https://ktcf.tistory.com/47\n",
    "https://www.statsmodels.org/stable/examples/notebooks/generated/ols.html"
   ]
  }
 ],
 "metadata": {
  "kernelspec": {
   "display_name": "Python 3",
   "language": "python",
   "name": "python3"
  },
  "language_info": {
   "codemirror_mode": {
    "name": "ipython",
    "version": 3
   },
   "file_extension": ".py",
   "mimetype": "text/x-python",
   "name": "python",
   "nbconvert_exporter": "python",
   "pygments_lexer": "ipython3",
   "version": "3.8.5"
  },
  "toc": {
   "base_numbering": 1,
   "nav_menu": {},
   "number_sections": true,
   "sideBar": true,
   "skip_h1_title": false,
   "title_cell": "Table of Contents",
   "title_sidebar": "Contents",
   "toc_cell": false,
   "toc_position": {},
   "toc_section_display": true,
   "toc_window_display": true
  }
 },
 "nbformat": 4,
 "nbformat_minor": 4
}

{
 "cells": [
  {
   "cell_type": "markdown",
   "id": "0a6d6919",
   "metadata": {},
   "source": [
    "## 6.1 일차원 ndarray와 view"
   ]
  },
  {
   "cell_type": "code",
   "execution_count": 124,
   "id": "c8019389",
   "metadata": {},
   "outputs": [],
   "source": [
    "import numpy as np\n",
    "\n",
    "a = np.array([ 10, 20, 30 ])\n",
    "b = a[ 1: ]"
   ]
  },
  {
   "cell_type": "code",
   "execution_count": 125,
   "id": "5f22a072",
   "metadata": {},
   "outputs": [
    {
     "name": "stdout",
     "output_type": "stream",
     "text": [
      "{'data': (2500800231264, False), 'strides': None, 'descr': [('', '<i4')], 'typestr': '<i4', 'shape': (3,), 'version': 3}\n"
     ]
    }
   ],
   "source": [
    "print(a.__array_interface__)"
   ]
  },
  {
   "cell_type": "code",
   "execution_count": 128,
   "id": "7b8eee77",
   "metadata": {},
   "outputs": [
    {
     "name": "stdout",
     "output_type": "stream",
     "text": [
      "(4,)\n"
     ]
    }
   ],
   "source": [
    "print(a.strides)"
   ]
  },
  {
   "cell_type": "code",
   "execution_count": 4,
   "id": "36b80d77",
   "metadata": {},
   "outputs": [
    {
     "name": "stdout",
     "output_type": "stream",
     "text": [
      "{'data': (2614827516676, False), 'strides': None, 'descr': [('', '<i4')], 'typestr': '<i4', 'shape': (2,), 'version': 3}\n"
     ]
    }
   ],
   "source": [
    "print(b.__array_interface__)"
   ]
  },
  {
   "cell_type": "code",
   "execution_count": 5,
   "id": "212a2297",
   "metadata": {},
   "outputs": [
    {
     "data": {
      "text/plain": [
       "(4,)"
      ]
     },
     "execution_count": 5,
     "metadata": {},
     "output_type": "execute_result"
    }
   ],
   "source": [
    "a.strides"
   ]
  },
  {
   "cell_type": "code",
   "execution_count": 6,
   "id": "59868a88",
   "metadata": {},
   "outputs": [
    {
     "name": "stdout",
     "output_type": "stream",
     "text": [
      "2614827516672\n",
      "2614827516676\n"
     ]
    }
   ],
   "source": [
    "print(a.__array_interface__['data'][0])\n",
    "print(b.__array_interface__['data'][0])"
   ]
  },
  {
   "cell_type": "code",
   "execution_count": 7,
   "id": "94811b3c",
   "metadata": {},
   "outputs": [
    {
     "name": "stdout",
     "output_type": "stream",
     "text": [
      "[ 10 200  30]\n",
      "[200  30]\n"
     ]
    }
   ],
   "source": [
    "b[0] = 200\n",
    "print( a )\n",
    "print( b )"
   ]
  },
  {
   "cell_type": "code",
   "execution_count": 8,
   "id": "5c9eaf70",
   "metadata": {},
   "outputs": [
    {
     "name": "stdout",
     "output_type": "stream",
     "text": [
      "2614827513952\n",
      "2614828403904\n"
     ]
    }
   ],
   "source": [
    "a = np.array( [ 10, 20, 30 ] )\n",
    "b = a[ [0, 2] ]\n",
    "print(a.__array_interface__['data'][0])\n",
    "print(b.__array_interface__['data'][0])"
   ]
  },
  {
   "cell_type": "code",
   "execution_count": 9,
   "id": "bffc0f0e",
   "metadata": {},
   "outputs": [
    {
     "name": "stdout",
     "output_type": "stream",
     "text": [
      "2614827516672\n",
      "2614829261856\n"
     ]
    }
   ],
   "source": [
    "a = np.array( [ 10, 20, 30 ] )\n",
    "b = a[ a >= 20 ]\n",
    "print(a.__array_interface__['data'][0])\n",
    "print(b.__array_interface__['data'][0])"
   ]
  },
  {
   "cell_type": "code",
   "execution_count": 10,
   "id": "6eb9b7fa",
   "metadata": {},
   "outputs": [],
   "source": [
    "b = a.view()\n",
    "c = a.copy()"
   ]
  },
  {
   "cell_type": "code",
   "execution_count": 11,
   "id": "03423fc4",
   "metadata": {},
   "outputs": [],
   "source": [
    "b = a.view(dtype=np.int16)\n",
    "c = a.astype(dtype=np.int16)"
   ]
  },
  {
   "cell_type": "code",
   "execution_count": 12,
   "id": "00f390f7",
   "metadata": {},
   "outputs": [
    {
     "name": "stdout",
     "output_type": "stream",
     "text": [
      "2614827516672\n",
      "2614829261488\n"
     ]
    }
   ],
   "source": [
    "print(b.__array_interface__['data'][0])\n",
    "print(c.__array_interface__['data'][0])"
   ]
  },
  {
   "cell_type": "code",
   "execution_count": 5,
   "id": "f977834d",
   "metadata": {},
   "outputs": [
    {
     "name": "stdout",
     "output_type": "stream",
     "text": [
      "None\n",
      "True\n",
      "[10 20 30]\n",
      "False\n"
     ]
    }
   ],
   "source": [
    "a = np.array( [ 10, 20, 30 ] )\n",
    "b = a[  1 : ]\n",
    "print(a.base)\n",
    "print(a.flags.owndata)\n",
    "print(b.base)\n",
    "print(b.flags.owndata)"
   ]
  },
  {
   "cell_type": "code",
   "execution_count": null,
   "id": "66cebcf8",
   "metadata": {},
   "outputs": [],
   "source": [
    "np.shares_memory(a, b)"
   ]
  },
  {
   "cell_type": "markdown",
   "id": "7f06d41d",
   "metadata": {},
   "source": [
    "## 6.2 이차원 ndarray와 view"
   ]
  },
  {
   "cell_type": "code",
   "execution_count": 98,
   "id": "f4c5d357",
   "metadata": {},
   "outputs": [
    {
     "name": "stdout",
     "output_type": "stream",
     "text": [
      "{'data': (2500822179248, False), 'strides': None, 'descr': [('', '<i4')], 'typestr': '<i4', 'shape': (3, 3), 'version': 3}\n",
      "(12, 4)\n"
     ]
    }
   ],
   "source": [
    "import numpy as np\n",
    "\n",
    "a = np.array([\n",
    "    [0, 1, 2],\n",
    "    [3, 4, 5],\n",
    "    [6, 7, 8],\n",
    "])\n",
    "print(a.__array_interface__)\n",
    "print(a.strides)"
   ]
  },
  {
   "cell_type": "code",
   "execution_count": 102,
   "id": "c9541881",
   "metadata": {},
   "outputs": [
    {
     "name": "stdout",
     "output_type": "stream",
     "text": [
      "107 ns ± 0.542 ns per loop (mean ± std. dev. of 7 runs, 10000000 loops each)\n"
     ]
    }
   ],
   "source": [
    "%timeit a[0]"
   ]
  },
  {
   "cell_type": "code",
   "execution_count": 103,
   "id": "70cd4d2c",
   "metadata": {},
   "outputs": [
    {
     "name": "stdout",
     "output_type": "stream",
     "text": [
      "161 ns ± 0.604 ns per loop (mean ± std. dev. of 7 runs, 10000000 loops each)\n"
     ]
    }
   ],
   "source": [
    "%timeit a[:, 0]"
   ]
  },
  {
   "cell_type": "code",
   "execution_count": 104,
   "id": "90b766c1",
   "metadata": {},
   "outputs": [
    {
     "name": "stdout",
     "output_type": "stream",
     "text": [
      "512 ns ± 7.86 ns per loop (mean ± std. dev. of 7 runs, 1000000 loops each)\n"
     ]
    }
   ],
   "source": [
    "%timeit a[0] + a[1]"
   ]
  },
  {
   "cell_type": "code",
   "execution_count": 105,
   "id": "6e904d2f",
   "metadata": {},
   "outputs": [
    {
     "name": "stdout",
     "output_type": "stream",
     "text": [
      "1 µs ± 3.1 ns per loop (mean ± std. dev. of 7 runs, 1000000 loops each)\n"
     ]
    }
   ],
   "source": [
    "%timeit a[:, 0] + a[:, 1]"
   ]
  },
  {
   "cell_type": "code",
   "execution_count": 14,
   "id": "a9008d88",
   "metadata": {},
   "outputs": [
    {
     "name": "stdout",
     "output_type": "stream",
     "text": [
      "2614824950160\n",
      "2614824950160\n"
     ]
    }
   ],
   "source": [
    "a = np.array([\n",
    "    [0, 1, 2],\n",
    "    [3, 4, 5],\n",
    "    [6, 7, 8],\n",
    "])\n",
    "b = a[ :2, :2 ]\n",
    "print(a.__array_interface__['data'][0])\n",
    "print(b.__array_interface__['data'][0])"
   ]
  },
  {
   "cell_type": "code",
   "execution_count": 16,
   "id": "3d2a7022",
   "metadata": {},
   "outputs": [
    {
     "name": "stdout",
     "output_type": "stream",
     "text": [
      "2614827514208\n"
     ]
    }
   ],
   "source": [
    "b = a[ 1:3, [0, 2] ]\n",
    "print(b.__array_interface__['data'][0])"
   ]
  },
  {
   "cell_type": "code",
   "execution_count": 17,
   "id": "4cb30b40",
   "metadata": {},
   "outputs": [
    {
     "name": "stdout",
     "output_type": "stream",
     "text": [
      "2614827513984\n"
     ]
    }
   ],
   "source": [
    "b = a[ [True, False, True],  :2 ]\n",
    "print(b.__array_interface__['data'][0])"
   ]
  },
  {
   "cell_type": "markdown",
   "id": "2da0f33e",
   "metadata": {},
   "source": [
    "## 6.3 판다스와 view"
   ]
  },
  {
   "cell_type": "code",
   "execution_count": 106,
   "id": "bbbebc56",
   "metadata": {},
   "outputs": [
    {
     "name": "stdout",
     "output_type": "stream",
     "text": [
      "{'data': (2500818924384, False), 'strides': (8, 24), 'descr': [('', '<i8')], 'typestr': '<i8', 'shape': (3, 3), 'version': 3}\n"
     ]
    }
   ],
   "source": [
    "from pandas import DataFrame \n",
    "\n",
    "data = [\n",
    "    [0, 1, 2],\n",
    "    [3, 4, 5],\n",
    "    [6, 7, 8],\n",
    "]\n",
    "index = [\"a\", \"b\", \"c\"]\n",
    "columns = [\"x\", \"y\", \"z\"]\n",
    "\n",
    "df = DataFrame( data, index, columns)\n",
    "print(df.values.__array_interface__)"
   ]
  },
  {
   "cell_type": "code",
   "execution_count": 3,
   "id": "e004ff7d",
   "metadata": {},
   "outputs": [
    {
     "name": "stdout",
     "output_type": "stream",
     "text": [
      "2296116878752\n",
      "2296116878760\n",
      "2296116878768\n",
      "2296116878776\n"
     ]
    }
   ],
   "source": [
    "print(df.values.__array_interface__['data'][0])\n",
    "print(df.iloc[1].values.__array_interface__['data'][0])\n",
    "print(df.iloc[2].values.__array_interface__['data'][0])\n",
    "print(df['y'].values.__array_interface__['data'][0])"
   ]
  },
  {
   "cell_type": "code",
   "execution_count": 107,
   "id": "21e36091",
   "metadata": {},
   "outputs": [
    {
     "name": "stdout",
     "output_type": "stream",
     "text": [
      "{'data': (2500822178672, False), 'strides': None, 'descr': [('', '<i4')], 'typestr': '<i4', 'shape': (3, 3), 'version': 3}\n",
      "(12, 4)\n"
     ]
    }
   ],
   "source": [
    "import numpy as np\n",
    "\n",
    "data = np.arange(9).reshape(3, 3)\n",
    "index = [\"a\", \"b\", \"c\"]\n",
    "columns = [\"x\", \"y\", \"z\"]\n",
    "\n",
    "df = DataFrame( data, index, columns)\n",
    "print(df.values.__array_interface__)\n",
    "print(df.values.strides)"
   ]
  },
  {
   "cell_type": "code",
   "execution_count": 108,
   "id": "859047fb",
   "metadata": {},
   "outputs": [
    {
     "name": "stdout",
     "output_type": "stream",
     "text": [
      "2500822178672\n",
      "2500822178672\n"
     ]
    }
   ],
   "source": [
    "a = df[\"x\"]\n",
    "print(df.values.__array_interface__['data'][0])\n",
    "print(a.values.__array_interface__['data'][0])"
   ]
  },
  {
   "cell_type": "code",
   "execution_count": 109,
   "id": "043d3035",
   "metadata": {},
   "outputs": [
    {
     "name": "stdout",
     "output_type": "stream",
     "text": [
      "2500822178672\n",
      "2500822178672\n"
     ]
    }
   ],
   "source": [
    "b = df.iloc[0:2]\n",
    "c = df.loc[\"a\":\"b\"]\n",
    "print(b.values.__array_interface__['data'][0])\n",
    "print(c.values.__array_interface__['data'][0])"
   ]
  },
  {
   "cell_type": "code",
   "execution_count": 110,
   "id": "3c4a4a06",
   "metadata": {
    "scrolled": true
   },
   "outputs": [
    {
     "name": "stdout",
     "output_type": "stream",
     "text": [
      "2500824807072\n",
      "2500795394080\n",
      "2500818930864\n"
     ]
    }
   ],
   "source": [
    "b = df[ ['x','y'] ]\n",
    "c = df.iloc[ [0, 2] ]\n",
    "d = df[ df > 10 ]\n",
    "print(b.values.__array_interface__['data'][0])\n",
    "print(c.values.__array_interface__['data'][0])\n",
    "print(d.values.__array_interface__['data'][0])"
   ]
  },
  {
   "cell_type": "code",
   "execution_count": 111,
   "id": "0aa91f5b",
   "metadata": {},
   "outputs": [
    {
     "name": "stdout",
     "output_type": "stream",
     "text": [
      "True\n",
      "True\n",
      "True\n",
      "True\n"
     ]
    }
   ],
   "source": [
    "print(df._is_view)\n",
    "print(b._is_view)\n",
    "print(c._is_view)\n",
    "print(d._is_view)"
   ]
  },
  {
   "cell_type": "code",
   "execution_count": 116,
   "id": "26ad607c",
   "metadata": {},
   "outputs": [
    {
     "data": {
      "text/html": [
       "<div>\n",
       "<style scoped>\n",
       "    .dataframe tbody tr th:only-of-type {\n",
       "        vertical-align: middle;\n",
       "    }\n",
       "\n",
       "    .dataframe tbody tr th {\n",
       "        vertical-align: top;\n",
       "    }\n",
       "\n",
       "    .dataframe thead th {\n",
       "        text-align: right;\n",
       "    }\n",
       "</style>\n",
       "<table border=\"1\" class=\"dataframe\">\n",
       "  <thead>\n",
       "    <tr style=\"text-align: right;\">\n",
       "      <th></th>\n",
       "      <th>x</th>\n",
       "      <th>y</th>\n",
       "      <th>z</th>\n",
       "    </tr>\n",
       "  </thead>\n",
       "  <tbody>\n",
       "    <tr>\n",
       "      <th>a</th>\n",
       "      <td>가</td>\n",
       "      <td>0</td>\n",
       "      <td>1</td>\n",
       "    </tr>\n",
       "    <tr>\n",
       "      <th>b</th>\n",
       "      <td>나</td>\n",
       "      <td>2</td>\n",
       "      <td>3</td>\n",
       "    </tr>\n",
       "    <tr>\n",
       "      <th>c</th>\n",
       "      <td>다</td>\n",
       "      <td>4</td>\n",
       "      <td>5</td>\n",
       "    </tr>\n",
       "  </tbody>\n",
       "</table>\n",
       "</div>"
      ],
      "text/plain": [
       "   x  y  z\n",
       "a  가  0  1\n",
       "b  나  2  3\n",
       "c  다  4  5"
      ]
     },
     "execution_count": 116,
     "metadata": {},
     "output_type": "execute_result"
    }
   ],
   "source": [
    "data = [\n",
    "    [\"가\", 0, 1 ],\n",
    "    [\"나\", 2, 3 ],\n",
    "    [\"다\", 4, 5 ],\n",
    "]\n",
    "df = DataFrame(data, index=['a', \"b\", \"c\"], columns=['x', 'y', 'z'])\n",
    "df"
   ]
  },
  {
   "cell_type": "code",
   "execution_count": 117,
   "id": "5641edfc",
   "metadata": {},
   "outputs": [
    {
     "name": "stdout",
     "output_type": "stream",
     "text": [
      "True\n",
      "False\n",
      "False\n",
      "False\n"
     ]
    }
   ],
   "source": [
    "print(df[\"x\"]._is_view)\n",
    "print(df.iloc[0]._is_view)\n",
    "print(df.iloc[0:2]._is_view)\n",
    "print(df.iloc[[0, 2]]._is_view)"
   ]
  },
  {
   "cell_type": "markdown",
   "id": "f723681a",
   "metadata": {},
   "source": [
    "## 6.4 판다스의 BlockManager"
   ]
  },
  {
   "cell_type": "code",
   "execution_count": 168,
   "id": "daec36cc",
   "metadata": {},
   "outputs": [
    {
     "data": {
      "text/plain": [
       "BlockManager\n",
       "Items: Index(['x', 'y', 'z'], dtype='object')\n",
       "Axis 1: Index(['a', 'b', 'c'], dtype='object')\n",
       "FloatBlock: slice(2, 3, 1), 1 x 3, dtype: float64\n",
       "IntBlock: slice(0, 2, 1), 2 x 3, dtype: int64"
      ]
     },
     "execution_count": 168,
     "metadata": {},
     "output_type": "execute_result"
    }
   ],
   "source": [
    "from pandas import DataFrame \n",
    "\n",
    "data = [\n",
    "    [0, 1, 2.0],\n",
    "    [3, 4, 5.0],\n",
    "    [6, 7, 8.0],\n",
    "]\n",
    "df = DataFrame(data, index=[\"a\", \"b\", \"c\"], columns=[\"x\", \"y\", \"z\"])\n",
    "df._data"
   ]
  },
  {
   "cell_type": "code",
   "execution_count": 169,
   "id": "2adb87ef",
   "metadata": {},
   "outputs": [
    {
     "name": "stdout",
     "output_type": "stream",
     "text": [
      "(8,)\n",
      "2500797131408\n",
      "2500797131432\n",
      "2500827232128\n"
     ]
    }
   ],
   "source": [
    "print(df['x'].values.strides)\n",
    "print(df['x'].values.__array_interface__['data'][0])\n",
    "print(df['y'].values.__array_interface__['data'][0])\n",
    "print(df['z'].values.__array_interface__['data'][0])"
   ]
  },
  {
   "cell_type": "code",
   "execution_count": 170,
   "id": "62c5319b",
   "metadata": {},
   "outputs": [
    {
     "name": "stdout",
     "output_type": "stream",
     "text": [
      "False\n",
      "True\n",
      "True\n"
     ]
    }
   ],
   "source": [
    "print(df.iloc[0]._is_view)\n",
    "print(df['x']._is_view)\n",
    "print(df.iloc[:, 2]._is_view)"
   ]
  },
  {
   "cell_type": "code",
   "execution_count": 171,
   "id": "3d764bbe",
   "metadata": {},
   "outputs": [
    {
     "name": "stdout",
     "output_type": "stream",
     "text": [
      "BlockManager\n",
      "Items: Index(['x', 'y', 'z', 'w'], dtype='object')\n",
      "Axis 1: Index(['a', 'b', 'c'], dtype='object')\n",
      "FloatBlock: slice(2, 3, 1), 1 x 3, dtype: float64\n",
      "IntBlock: slice(0, 2, 1), 2 x 3, dtype: int64\n",
      "IntBlock: slice(3, 4, 1), 1 x 3, dtype: int64\n"
     ]
    }
   ],
   "source": [
    "df['w'] = 10\n",
    "print(df._data)"
   ]
  },
  {
   "cell_type": "code",
   "execution_count": 172,
   "id": "b1850444",
   "metadata": {},
   "outputs": [
    {
     "name": "stdout",
     "output_type": "stream",
     "text": [
      "[[ 0.  1.  2. 10.]\n",
      " [ 3.  4.  5. 10.]\n",
      " [ 6.  7.  8. 10.]]\n",
      "BlockManager\n",
      "Items: Index(['x', 'y', 'z', 'w'], dtype='object')\n",
      "Axis 1: Index(['a', 'b', 'c'], dtype='object')\n",
      "FloatBlock: slice(2, 3, 1), 1 x 3, dtype: float64\n",
      "IntBlock: [0 1 3], 3 x 3, dtype: int64\n"
     ]
    }
   ],
   "source": [
    "print(df.values)\n",
    "print(df._data)"
   ]
  },
  {
   "cell_type": "code",
   "execution_count": 173,
   "id": "a4c330a8",
   "metadata": {},
   "outputs": [
    {
     "name": "stdout",
     "output_type": "stream",
     "text": [
      "2500797065536\n",
      "2500818924384\n"
     ]
    }
   ],
   "source": [
    "print(df.values[:,0].__array_interface__['data'][0])\n",
    "print(df['x'].values.__array_interface__['data'][0])"
   ]
  },
  {
   "cell_type": "markdown",
   "id": "970f0e43",
   "metadata": {},
   "source": [
    "## 6.5 getter와 setter 메서드"
   ]
  },
  {
   "cell_type": "code",
   "execution_count": 189,
   "id": "351bc021",
   "metadata": {},
   "outputs": [
    {
     "name": "stdout",
     "output_type": "stream",
     "text": [
      "[10 20 30]\n"
     ]
    }
   ],
   "source": [
    "import numpy as np\n",
    "from pandas import DataFrame\n",
    "\n",
    "a = np.array( [ 10, 20, 30 ] )\n",
    "cond = a >= 20\n",
    "b = a[cond]\n",
    "b[0] = 100\n",
    "print(a)"
   ]
  },
  {
   "cell_type": "code",
   "execution_count": 12,
   "id": "b76629f4",
   "metadata": {},
   "outputs": [
    {
     "name": "stdout",
     "output_type": "stream",
     "text": [
      "[10  0  0]\n"
     ]
    }
   ],
   "source": [
    "cond = a >= 20\n",
    "a[cond] = 0\n",
    "print(a)"
   ]
  },
  {
   "cell_type": "code",
   "execution_count": 13,
   "id": "a5dff710",
   "metadata": {},
   "outputs": [],
   "source": [
    "class MyIndexing:\n",
    "    def __init__(self):\n",
    "        self.data = [10, 11, 12, 13]\n",
    "       \n",
    "    def __getitem__(self, idx):\n",
    "        return self.data[idx]\n",
    "   \n",
    "    def __setitem__(self, idx, val):\n",
    "        self.data[idx] = val"
   ]
  },
  {
   "cell_type": "code",
   "execution_count": 14,
   "id": "79da5367",
   "metadata": {},
   "outputs": [
    {
     "name": "stdout",
     "output_type": "stream",
     "text": [
      "13\n"
     ]
    }
   ],
   "source": [
    "객체 = MyIndexing()\n",
    "print(객체[3])"
   ]
  },
  {
   "cell_type": "code",
   "execution_count": 15,
   "id": "3b770893",
   "metadata": {},
   "outputs": [],
   "source": [
    "객체[3] = 20"
   ]
  },
  {
   "cell_type": "code",
   "execution_count": 190,
   "id": "19dbe7d5",
   "metadata": {},
   "outputs": [
    {
     "name": "stdout",
     "output_type": "stream",
     "text": [
      "[10  0  0]\n"
     ]
    }
   ],
   "source": [
    "cond = a >= 20\n",
    "# a[cond] = 0\n",
    "a.__setitem__(cond, 0)\n",
    "print(a)"
   ]
  },
  {
   "cell_type": "markdown",
   "id": "99dc63da",
   "metadata": {},
   "source": [
    "## 6.6.\tSettingWithCopyWarning"
   ]
  },
  {
   "cell_type": "code",
   "execution_count": 175,
   "id": "8471d946",
   "metadata": {},
   "outputs": [],
   "source": [
    "from pandas import DataFrame"
   ]
  },
  {
   "cell_type": "code",
   "execution_count": 244,
   "id": "f7e76b4f",
   "metadata": {},
   "outputs": [
    {
     "data": {
      "text/html": [
       "<div>\n",
       "<style scoped>\n",
       "    .dataframe tbody tr th:only-of-type {\n",
       "        vertical-align: middle;\n",
       "    }\n",
       "\n",
       "    .dataframe tbody tr th {\n",
       "        vertical-align: top;\n",
       "    }\n",
       "\n",
       "    .dataframe thead th {\n",
       "        text-align: right;\n",
       "    }\n",
       "</style>\n",
       "<table border=\"1\" class=\"dataframe\">\n",
       "  <thead>\n",
       "    <tr style=\"text-align: right;\">\n",
       "      <th></th>\n",
       "      <th>x</th>\n",
       "      <th>y</th>\n",
       "      <th>z</th>\n",
       "    </tr>\n",
       "  </thead>\n",
       "  <tbody>\n",
       "    <tr>\n",
       "      <th>a</th>\n",
       "      <td>0</td>\n",
       "      <td>1</td>\n",
       "      <td>2</td>\n",
       "    </tr>\n",
       "    <tr>\n",
       "      <th>b</th>\n",
       "      <td>3</td>\n",
       "      <td>4</td>\n",
       "      <td>5</td>\n",
       "    </tr>\n",
       "    <tr>\n",
       "      <th>c</th>\n",
       "      <td>6</td>\n",
       "      <td>7</td>\n",
       "      <td>8</td>\n",
       "    </tr>\n",
       "  </tbody>\n",
       "</table>\n",
       "</div>"
      ],
      "text/plain": [
       "   x  y  z\n",
       "a  0  1  2\n",
       "b  3  4  5\n",
       "c  6  7  8"
      ]
     },
     "execution_count": 244,
     "metadata": {},
     "output_type": "execute_result"
    }
   ],
   "source": [
    "data = [\n",
    "    [0, 1, 2],\n",
    "    [3, 4, 5],    \n",
    "    [6, 7, 8]\n",
    "]\n",
    "\n",
    "df = DataFrame(data, index=[\"a\", \"b\", \"c\"], columns=[\"x\", \"y\", \"z\"])\n",
    "df"
   ]
  },
  {
   "cell_type": "code",
   "execution_count": 245,
   "id": "aa26cba9",
   "metadata": {},
   "outputs": [
    {
     "name": "stdout",
     "output_type": "stream",
     "text": [
      "   x  y  z\n",
      "a  0  1  2\n",
      "b  3  4  5\n",
      "c  6  7  8\n"
     ]
    },
    {
     "name": "stderr",
     "output_type": "stream",
     "text": [
      "<ipython-input-245-eb552d4a339f>:2: SettingWithCopyWarning: \n",
      "A value is trying to be set on a copy of a slice from a DataFrame.\n",
      "Try using .loc[row_indexer,col_indexer] = value instead\n",
      "\n",
      "See the caveats in the documentation: https://pandas.pydata.org/pandas-docs/stable/user_guide/indexing.html#returning-a-view-versus-a-copy\n",
      "  t['w'] = 10\n"
     ]
    }
   ],
   "source": [
    "t = df.iloc[0:2]\n",
    "t['w'] = 10\n",
    "print(df)"
   ]
  },
  {
   "cell_type": "code",
   "execution_count": 246,
   "id": "b11ec9b7",
   "metadata": {},
   "outputs": [
    {
     "name": "stdout",
     "output_type": "stream",
     "text": [
      "   x  y  z\n",
      "a  0  1  2\n",
      "b  3  4  5\n",
      "c  6  7  8\n"
     ]
    },
    {
     "name": "stderr",
     "output_type": "stream",
     "text": [
      "<ipython-input-246-48a947db811c>:1: SettingWithCopyWarning: \n",
      "A value is trying to be set on a copy of a slice from a DataFrame.\n",
      "Try using .loc[row_indexer,col_indexer] = value instead\n",
      "\n",
      "See the caveats in the documentation: https://pandas.pydata.org/pandas-docs/stable/user_guide/indexing.html#returning-a-view-versus-a-copy\n",
      "  df.iloc[ [0, 1] ]['w'] = 10\n"
     ]
    }
   ],
   "source": [
    "df.iloc[ [0, 1] ]['w'] = 10\n",
    "print(df)"
   ]
  },
  {
   "cell_type": "code",
   "execution_count": 247,
   "id": "1b5981e5",
   "metadata": {},
   "outputs": [
    {
     "name": "stdout",
     "output_type": "stream",
     "text": [
      "   x  y  z\n",
      "a  0  1  2\n",
      "b  3  4  5\n",
      "c  6  7  8\n"
     ]
    },
    {
     "name": "stderr",
     "output_type": "stream",
     "text": [
      "<ipython-input-247-43e8770ee873>:1: SettingWithCopyWarning: \n",
      "A value is trying to be set on a copy of a slice from a DataFrame.\n",
      "Try using .loc[row_indexer,col_indexer] = value instead\n",
      "\n",
      "See the caveats in the documentation: https://pandas.pydata.org/pandas-docs/stable/user_guide/indexing.html#returning-a-view-versus-a-copy\n",
      "  df.iloc[ 0:2 ]['w'] = 10\n"
     ]
    }
   ],
   "source": [
    "df.iloc[ 0:2 ]['w'] = 10\n",
    "print(df)"
   ]
  },
  {
   "cell_type": "code",
   "execution_count": 248,
   "id": "4b44debb",
   "metadata": {},
   "outputs": [
    {
     "name": "stdout",
     "output_type": "stream",
     "text": [
      "   x  y  z   w\n",
      "a  0  1  2  10\n",
      "b  3  4  5  10\n",
      "c  6  7  8  10\n"
     ]
    }
   ],
   "source": [
    "df.loc[:, 'w'] = 10\n",
    "print(df)"
   ]
  },
  {
   "cell_type": "code",
   "execution_count": 249,
   "id": "b470aa15",
   "metadata": {},
   "outputs": [
    {
     "data": {
      "text/html": [
       "<div>\n",
       "<style scoped>\n",
       "    .dataframe tbody tr th:only-of-type {\n",
       "        vertical-align: middle;\n",
       "    }\n",
       "\n",
       "    .dataframe tbody tr th {\n",
       "        vertical-align: top;\n",
       "    }\n",
       "\n",
       "    .dataframe thead th {\n",
       "        text-align: right;\n",
       "    }\n",
       "</style>\n",
       "<table border=\"1\" class=\"dataframe\">\n",
       "  <thead>\n",
       "    <tr style=\"text-align: right;\">\n",
       "      <th></th>\n",
       "      <th>x</th>\n",
       "      <th>y</th>\n",
       "      <th>z</th>\n",
       "      <th>w</th>\n",
       "      <th>v</th>\n",
       "    </tr>\n",
       "  </thead>\n",
       "  <tbody>\n",
       "    <tr>\n",
       "      <th>a</th>\n",
       "      <td>0</td>\n",
       "      <td>1</td>\n",
       "      <td>2</td>\n",
       "      <td>10</td>\n",
       "      <td>20.0</td>\n",
       "    </tr>\n",
       "    <tr>\n",
       "      <th>b</th>\n",
       "      <td>3</td>\n",
       "      <td>4</td>\n",
       "      <td>5</td>\n",
       "      <td>10</td>\n",
       "      <td>20.0</td>\n",
       "    </tr>\n",
       "    <tr>\n",
       "      <th>c</th>\n",
       "      <td>6</td>\n",
       "      <td>7</td>\n",
       "      <td>8</td>\n",
       "      <td>10</td>\n",
       "      <td>NaN</td>\n",
       "    </tr>\n",
       "  </tbody>\n",
       "</table>\n",
       "</div>"
      ],
      "text/plain": [
       "   x  y  z   w     v\n",
       "a  0  1  2  10  20.0\n",
       "b  3  4  5  10  20.0\n",
       "c  6  7  8  10   NaN"
      ]
     },
     "execution_count": 249,
     "metadata": {},
     "output_type": "execute_result"
    }
   ],
   "source": [
    "df.loc[\"a\":\"b\", 'v'] = 20\n",
    "df"
   ]
  },
  {
   "cell_type": "code",
   "execution_count": 250,
   "id": "157f329b",
   "metadata": {},
   "outputs": [
    {
     "data": {
      "text/html": [
       "<div>\n",
       "<style scoped>\n",
       "    .dataframe tbody tr th:only-of-type {\n",
       "        vertical-align: middle;\n",
       "    }\n",
       "\n",
       "    .dataframe tbody tr th {\n",
       "        vertical-align: top;\n",
       "    }\n",
       "\n",
       "    .dataframe thead th {\n",
       "        text-align: right;\n",
       "    }\n",
       "</style>\n",
       "<table border=\"1\" class=\"dataframe\">\n",
       "  <thead>\n",
       "    <tr style=\"text-align: right;\">\n",
       "      <th></th>\n",
       "      <th>x</th>\n",
       "      <th>y</th>\n",
       "      <th>z</th>\n",
       "      <th>w</th>\n",
       "      <th>v</th>\n",
       "    </tr>\n",
       "  </thead>\n",
       "  <tbody>\n",
       "    <tr>\n",
       "      <th>a</th>\n",
       "      <td>0</td>\n",
       "      <td>1</td>\n",
       "      <td>2</td>\n",
       "      <td>10</td>\n",
       "      <td>20.0</td>\n",
       "    </tr>\n",
       "    <tr>\n",
       "      <th>b</th>\n",
       "      <td>3</td>\n",
       "      <td>4</td>\n",
       "      <td>5</td>\n",
       "      <td>10</td>\n",
       "      <td>20.0</td>\n",
       "    </tr>\n",
       "    <tr>\n",
       "      <th>c</th>\n",
       "      <td>6</td>\n",
       "      <td>20</td>\n",
       "      <td>8</td>\n",
       "      <td>10</td>\n",
       "      <td>NaN</td>\n",
       "    </tr>\n",
       "  </tbody>\n",
       "</table>\n",
       "</div>"
      ],
      "text/plain": [
       "   x   y  z   w     v\n",
       "a  0   1  2  10  20.0\n",
       "b  3   4  5  10  20.0\n",
       "c  6  20  8  10   NaN"
      ]
     },
     "execution_count": 250,
     "metadata": {},
     "output_type": "execute_result"
    }
   ],
   "source": [
    "# df[df['x'] > 3]['y'] = 20\n",
    "df.loc[df['x'] > 3, 'y'] = 20\n",
    "df"
   ]
  }
 ],
 "metadata": {
  "kernelspec": {
   "display_name": "Python 3",
   "language": "python",
   "name": "python3"
  },
  "language_info": {
   "codemirror_mode": {
    "name": "ipython",
    "version": 3
   },
   "file_extension": ".py",
   "mimetype": "text/x-python",
   "name": "python",
   "nbconvert_exporter": "python",
   "pygments_lexer": "ipython3",
   "version": "3.8.8"
  },
  "toc": {
   "base_numbering": 1,
   "nav_menu": {},
   "number_sections": true,
   "sideBar": true,
   "skip_h1_title": false,
   "title_cell": "Table of Contents",
   "title_sidebar": "Contents",
   "toc_cell": false,
   "toc_position": {
    "height": "calc(100% - 180px)",
    "left": "10px",
    "top": "150px",
    "width": "219.429px"
   },
   "toc_section_display": true,
   "toc_window_display": true
  }
 },
 "nbformat": 4,
 "nbformat_minor": 5
}

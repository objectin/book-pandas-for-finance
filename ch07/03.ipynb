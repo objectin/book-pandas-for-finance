{
 "cells": [
  {
   "cell_type": "code",
   "execution_count": 1,
   "metadata": {},
   "outputs": [],
   "source": [
    "import matplotlib.pyplot as plt"
   ]
  },
  {
   "cell_type": "code",
   "execution_count": 2,
   "metadata": {},
   "outputs": [
    {
     "data": {
      "image/png": "[encoded data removed]",
      "text/plain": [
       "<Figure size 432x288 with 1 Axes>"
      ]
     },
     "metadata": {
      "needs_background": "dark"
     },
     "output_type": "display_data"
    }
   ],
   "source": [
    "plt.bar([1, 3, 5, 7, 9], [2, 3, 2, 2, 8])\n",
    "plt.show()"
   ]
  },
  {
   "cell_type": "code",
   "execution_count": 3,
   "metadata": {},
   "outputs": [
    {
     "data": {
      "text/html": [
       "<div>\n",
       "<style scoped>\n",
       "    .dataframe tbody tr th:only-of-type {\n",
       "        vertical-align: middle;\n",
       "    }\n",
       "\n",
       "    .dataframe tbody tr th {\n",
       "        vertical-align: top;\n",
       "    }\n",
       "\n",
       "    .dataframe thead th {\n",
       "        text-align: right;\n",
       "    }\n",
       "</style>\n",
       "<table border=\"1\" class=\"dataframe\">\n",
       "  <thead>\n",
       "    <tr style=\"text-align: right;\">\n",
       "      <th></th>\n",
       "      <th>Close</th>\n",
       "      <th>Open</th>\n",
       "      <th>High</th>\n",
       "      <th>Low</th>\n",
       "      <th>Volume</th>\n",
       "      <th>Change</th>\n",
       "    </tr>\n",
       "    <tr>\n",
       "      <th>Date</th>\n",
       "      <th></th>\n",
       "      <th></th>\n",
       "      <th></th>\n",
       "      <th></th>\n",
       "      <th></th>\n",
       "      <th></th>\n",
       "    </tr>\n",
       "  </thead>\n",
       "  <tbody>\n",
       "    <tr>\n",
       "      <th>2020-01-01</th>\n",
       "      <td>2203.442500</td>\n",
       "      <td>2207.549000</td>\n",
       "      <td>2218.408000</td>\n",
       "      <td>2192.597000</td>\n",
       "      <td>6.548040e+08</td>\n",
       "      <td>-0.001745</td>\n",
       "    </tr>\n",
       "    <tr>\n",
       "      <th>2020-02-01</th>\n",
       "      <td>2167.123500</td>\n",
       "      <td>2166.166000</td>\n",
       "      <td>2183.180500</td>\n",
       "      <td>2150.528500</td>\n",
       "      <td>6.982085e+08</td>\n",
       "      <td>-0.003080</td>\n",
       "    </tr>\n",
       "    <tr>\n",
       "      <th>2020-03-01</th>\n",
       "      <td>1786.746364</td>\n",
       "      <td>1794.281364</td>\n",
       "      <td>1824.905909</td>\n",
       "      <td>1751.699091</td>\n",
       "      <td>7.773055e+08</td>\n",
       "      <td>-0.004791</td>\n",
       "    </tr>\n",
       "    <tr>\n",
       "      <th>2020-04-01</th>\n",
       "      <td>1849.589000</td>\n",
       "      <td>1844.271500</td>\n",
       "      <td>1864.864000</td>\n",
       "      <td>1825.824000</td>\n",
       "      <td>1.051872e+09</td>\n",
       "      <td>0.005395</td>\n",
       "    </tr>\n",
       "    <tr>\n",
       "      <th>2020-05-01</th>\n",
       "      <td>1965.174211</td>\n",
       "      <td>1963.487895</td>\n",
       "      <td>1975.821579</td>\n",
       "      <td>1949.060526</td>\n",
       "      <td>8.532689e+08</td>\n",
       "      <td>0.002237</td>\n",
       "    </tr>\n",
       "  </tbody>\n",
       "</table>\n",
       "</div>"
      ],
      "text/plain": [
       "                  Close         Open         High          Low        Volume  \\\n",
       "Date                                                                           \n",
       "2020-01-01  2203.442500  2207.549000  2218.408000  2192.597000  6.548040e+08   \n",
       "2020-02-01  2167.123500  2166.166000  2183.180500  2150.528500  6.982085e+08   \n",
       "2020-03-01  1786.746364  1794.281364  1824.905909  1751.699091  7.773055e+08   \n",
       "2020-04-01  1849.589000  1844.271500  1864.864000  1825.824000  1.051872e+09   \n",
       "2020-05-01  1965.174211  1963.487895  1975.821579  1949.060526  8.532689e+08   \n",
       "\n",
       "              Change  \n",
       "Date                  \n",
       "2020-01-01 -0.001745  \n",
       "2020-02-01 -0.003080  \n",
       "2020-03-01 -0.004791  \n",
       "2020-04-01  0.005395  \n",
       "2020-05-01  0.002237  "
      ]
     },
     "execution_count": 3,
     "metadata": {},
     "output_type": "execute_result"
    }
   ],
   "source": [
    "import pandas as pd\n",
    "kospi = pd.read_excel('data/kospi.xlsx', index_col='Date')\n",
    "kospi2020 = kospi.loc['2020']\n",
    "mean_kospi_2020 = kospi2020.resample('MS').mean()\n",
    "mean_kospi_2020.head()"
   ]
  },
  {
   "cell_type": "code",
   "execution_count": 4,
   "metadata": {},
   "outputs": [
    {
     "data": {
      "image/png": "[encoded data removed]",
      "text/plain": [
       "<Figure size 1080x576 with 1 Axes>"
      ]
     },
     "metadata": {
      "needs_background": "dark"
     },
     "output_type": "display_data"
    }
   ],
   "source": [
    "fig = plt.figure(figsize=(15, 8))\n",
    "ax = fig.add_subplot(1, 1, 1)\n",
    "month = [x.strftime('%Y-%m') for x in mean_kospi_2020.index]\n",
    "ax.bar(x=month, height=mean_kospi_2020['Volume'], width=0.5, color='skyblue')\n",
    "\n",
    "plt.ticklabel_format(axis='y', style='plain')\n",
    "plt.title('KOSPI 월별 평균 거래량 (2020년)')\n",
    "plt.xlabel('월')\n",
    "plt.ylabel('평균 거래량')\n",
    "plt.show()"
   ]
  },
  {
   "cell_type": "code",
   "execution_count": null,
   "metadata": {},
   "outputs": [],
   "source": []
  }
 ],
 "metadata": {
  "kernelspec": {
   "display_name": "Python 3.9.13",
   "language": "python",
   "name": "python3"
  },
  "language_info": {
   "codemirror_mode": {
    "name": "ipython",
    "version": 3
   },
   "file_extension": ".py",
   "mimetype": "text/x-python",
   "name": "python",
   "nbconvert_exporter": "python",
   "pygments_lexer": "ipython3",
   "version": "3.9.13"
  },
  "orig_nbformat": 4,
  "vscode": {
   "interpreter": {
    "hash": "e45d430dd4495a451adf3f96c36ab39ddd21d42ca8131a0e0d50ee113b976380"
   }
  }
 },
 "nbformat": 4,
 "nbformat_minor": 2
}
